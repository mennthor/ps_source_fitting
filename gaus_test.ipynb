{
 "cells": [
  {
   "cell_type": "code",
   "execution_count": 1,
   "metadata": {
    "init_cell": true
   },
   "outputs": [],
   "source": [
    "#coding: utf8\n",
    "from __future__ import print_function, division\n",
    "import sys\n",
    "import numpy as np\n",
    "from numpy.lib.recfunctions import stack_arrays\n",
    "import matplotlib.pyplot as plt\n",
    "from matplotlib.patches import Circle\n",
    "from matplotlib.colors import ListedColormap\n",
    "# Leave out the bright values, good for quiver overlays\n",
    "inferno_c = ListedColormap(plt.cm.inferno.colors[:200], name=\"inferno_c\")\n",
    "from mpl_toolkits.axes_grid1.inset_locator import (zoomed_inset_axes,\n",
    "                                                   inset_axes, mark_inset)\n",
    "import healpy as hp\n",
    "import scipy.optimize as sco\n",
    "import scipy.interpolate as sci\n",
    "import emcee\n",
    "from tqdm import tqdm as tqdm\n",
    "\n",
    "from anapymods3.healpy import (gaussian_on_a_sphere, get_binned_healpy_map, \n",
    "                               DecRaToThetaPhi, ThetaPhiToDecRa, wrap_angle,\n",
    "                               rotator)\n",
    "from anapymods3.plots import (ps_cmap, EquCoordsToMapCoords, cartzoom,\n",
    "                              cartzoom_radius, make_astro_xaxis,\n",
    "                              reconstruct_cartzoom_data)\n",
    "from anapymods3.stats import prob2sigma"
   ]
  },
  {
   "cell_type": "markdown",
   "metadata": {},
   "source": [
    "TODO:\n",
    "1. Seed Funktion schreiben, auf's Beste hoffen...\n",
    "2. Besten BG gefunden? Wie überprüfen??\n",
    "3. Injiziertes Signal gefunden? s.o.?"
   ]
  },
  {
   "cell_type": "markdown",
   "metadata": {},
   "source": [
    "# Code"
   ]
  },
  {
   "cell_type": "markdown",
   "metadata": {
    "heading_collapsed": true
   },
   "source": [
    "## Event injection"
   ]
  },
  {
   "cell_type": "code",
   "execution_count": 2,
   "metadata": {
    "code_folding": [],
    "hidden": true,
    "init_cell": true
   },
   "outputs": [],
   "source": [
    "def inject_bg(n, rnd):\n",
    "    \"\"\"\n",
    "    Generate BG events' ra, dec coordinates uniformly on the sphere.\n",
    "    \n",
    "    Parameters\n",
    "    ----------\n",
    "    n : int\n",
    "        Number of BG-like event positions to draw.\n",
    "    rnd : np.random.RandomState instance\n",
    "        Random number generator to use.\n",
    "    \n",
    "    Returns\n",
    "    -------\n",
    "    ev_ra, ev_dec : array-like, shape (n)\n",
    "        BG-like event positions in radians.\n",
    "    \"\"\"\n",
    "    ev_ra = rnd.uniform(0, 2. * np.pi, size=n)\n",
    "    ev_dec = np.arccos(rnd.uniform(-1, 1, size=n)) - np.pi / 2.\n",
    "    return ev_ra, ev_dec\n",
    "\n",
    "def inject_signal(n, src_ra, src_dec, sigma, rnd):\n",
    "    \"\"\"\n",
    "    Inject from a 2D uncorrelated gaussian with per event sigma\n",
    "    \n",
    "    Parameters\n",
    "    ----------\n",
    "    n : int\n",
    "        Number of BG-like event positions to draw.\n",
    "    src_ra, src_dec : float\n",
    "        Single source position to inject signal at, in radian.\n",
    "    sigma : float or array-like shape (n)\n",
    "        Per event spatial uncertainty to introduce realistic variation.\n",
    "        If float the same value is used for all events, if array it must have\n",
    "        length ``n``.\n",
    "    rnd : np.random.RandomState instance\n",
    "        Random number generator to use.\n",
    "        \n",
    "    Returns\n",
    "    -------\n",
    "    ev_ras, ev_decs : array-like, shape (n)\n",
    "        Signal-like event positions, drawn from the gaussian assumption.\n",
    "    \"\"\"\n",
    "    if (src_ra < 0 or src_ra > 2. * np.pi or\n",
    "            src_dec < -np.pi / 2. or src_dec > np.pi / 2.):\n",
    "        raise ValueError(\"src_ra/src_dec outside range [0, 2pi]x[-pi/2,pi/2].\")\n",
    "    sigma = np.atleast_1d(sigma)\n",
    "    if len(sigma) != 1 and len(sigma) != n:\n",
    "        raise ValueError(\"sigma must be a single float or have length `n`.\")\n",
    "    # Lazy: Symmetric gaussian drawn at horizon rotated to target coordinates.\n",
    "    # If len(sigma) == 1, then all events share the same uncertainty estimation.\n",
    "    ev_ras, ev_decs = rnd.normal(0, sigma, size=(2, n))\n",
    "    return rotator(ra1=np.zeros(n), dec1=np.zeros(n),\n",
    "                   ra2=np.repeat(src_ra, n), dec2=np.repeat(src_dec, n),\n",
    "                   ra3=ev_ras, dec3=ev_decs)\n",
    "\n",
    "def get_evt_sigmas(n, rnd):\n",
    "    \"\"\"\n",
    "    Generates sigma uncertainties per event from a tuned Rayleigh PDF\n",
    "    \n",
    "    Parameters\n",
    "    ----------\n",
    "    n : int\n",
    "        Number of sigmas to draw.\n",
    "    rnd : np.random.RandomState instance\n",
    "        Random number generator to use.\n",
    "        \n",
    "    Returns\n",
    "    -------\n",
    "    sigmas : array-like, shape (n)\n",
    "        Created sigma spatial event uncertainties in radian.\n",
    "    \"\"\"\n",
    "    # Min at 0.3°, peakes at ~1° slight tail to 3°\n",
    "    rvs = scs.rayleigh.rvs(loc=0.3, scale=0.7, size=n, random_state=rnd)\n",
    "    return np.deg2rad(rvs) \n",
    "\n",
    "def make_sample(nbg, sig=None, rnd=None):\n",
    "    \"\"\"\n",
    "    Create a test sample with BG and signal events.\n",
    "    \n",
    "    Parameters\n",
    "    ---------\n",
    "    nbg : int\n",
    "    sig : dict, optional\n",
    "        If not ``None``, must have keys:\n",
    "        - \"nsig\", int or array-like:\n",
    "          Number of signal events to generate. If single number and \"ra\", \"dec\"\n",
    "          are multiple positions, then the same number is used for all sources.\n",
    "        - \"ra\", \"dec\", float or array-like:\n",
    "          Source position(s) in equatorial coordinates in radian.\n",
    "        - \"sigma\", float or array-like:\n",
    "          Used to randomize the source position using a symmetric 2D gaussian\n",
    "          (as the used priors). The source position is drawn form the gaussian\n",
    "          and then events are injected at this position. If single number and\n",
    "          \"ra\", \"dec\" are multiple positions, then the same number is used for\n",
    "          all sources. Assign ``0.`` if no src variation should be used.\n",
    "          \n",
    "        (Default: ``None``)\n",
    "    \n",
    "    rnd : np.random.RandomState, optional\n",
    "        Random number generator instance. If ``None`` a new one with seed ``0``\n",
    "        is created. (Default: ``None``)\n",
    "        \n",
    "    Returns\n",
    "    -------\n",
    "    ras, decs, sigmas : array-like\n",
    "        Event positions and uncertainties in radian for both BG and signal.\n",
    "    sig_idx : int array-like\n",
    "        Indices indicating to which class the events belong. ``0`` are all BG\n",
    "        events, then integer increments for each source position.\n",
    "    \"\"\"\n",
    "    if rnd is None:\n",
    "        rnd = np.random.RandomState()\n",
    "    \n",
    "    # Make background events\n",
    "    ra_bg, dec_bg = inject_bg(nbg, rnd)\n",
    "    sigma_bg = get_evt_sigmas(nbg, rnd)\n",
    "    \n",
    "    sig_idx = np.zeros(nbg, dtype=int)\n",
    "\n",
    "    # Make signal events if desired\n",
    "    ra_sig, dec_sig, sigma_sig = [], [], []\n",
    "    if sig is not None:\n",
    "        if not isinstance(sig, dict):\n",
    "            raise ValueError(\"If sig is not None, must be a dict.\")\n",
    "        for key in [\"nsig\", \"ra\", \"dec\", \"sigma\"]:\n",
    "            if key not in sig.keys():\n",
    "                raise ValueError(\"sig is missing key '{}'\".format(key))\n",
    "        \n",
    "        nsig = np.atleast_1d(sig[\"nsig\"]).astype(int)\n",
    "        src_ras = np.atleast_1d(sig[\"ra\"])\n",
    "        src_decs = np.atleast_1d(sig[\"dec\"])\n",
    "        src_sigmas = np.atleast_1d(sig[\"sigma\"])\n",
    "        nsrcs = len(src_ras)\n",
    "        \n",
    "        # If nsig or sigma is only a single number, use same val for all srcs\n",
    "        if len(src_ras) != len(src_decs):\n",
    "            raise ValueError(\"src ra and dec must have same length.\")      \n",
    "        if len(nsig) != nsrcs:\n",
    "            if not len(nsig) == 1:\n",
    "                raise ValueError(\"nsig must have same len as ra, dec or be a\" +\n",
    "                                 \"single number.\")\n",
    "            nsig = np.repeat(nsig, repeats=nsrcs)\n",
    "        if len(src_sigmas) != nsrcs:\n",
    "            if not len(src_sigmas) == 1:\n",
    "                raise ValueError(\"sigma must have same len as ra, dec or be a\" +\n",
    "                                 \"single number.\")\n",
    "            src_sigmas = np.repeat(src_sigmas, repeats=nsrcs)\n",
    "        \n",
    "        # Inject events, draw src positions first to imitate src pos uncertainty\n",
    "        src_ras = rnd.normal(loc=src_ras, scale=src_sigmas, size=nsrcs)\n",
    "        src_decs = rnd.normal(loc=src_decs, scale=src_sigmas, size=nsrcs)\n",
    "        print(\"sigma : [{}]. New true src locations are:\".format(\", \".join(\n",
    "            [\"{:.1f}\".format(sigi) for sigi in np.rad2deg(src_sigmas)])))\n",
    "        print(\"  RA  : [{}] in deg\".format(\", \".join([\"{:.1f}\".format(\n",
    "            rai) for rai in np.rad2deg(src_ras)])))\n",
    "        print(\"  DEC : [{}] in deg\".format(\", \".join([\"{:.1f}\".format(\n",
    "            deci) for deci in np.rad2deg(src_decs)])))\n",
    "        \n",
    "        ra_sig, dec_sig, sigma_sig = [], [], []\n",
    "        for i, (nsigi, srai, sdeci) in enumerate(zip(nsig, src_ras, src_decs)):\n",
    "            sigma_sig.append(get_evt_sigmas(nsigi, rnd=rnd))\n",
    "            ra_sigi, dec_sigi = inject_signal(nsigi, srai, sdeci,\n",
    "                                              sigma=sigma_sig[-1], rnd=rnd)\n",
    "            ra_sig.append(ra_sigi)\n",
    "            dec_sig.append(dec_sigi)\n",
    "            sig_idx = np.r_[sig_idx, np.ones(nsigi, dtype=int) * (i + 1)]\n",
    "\n",
    "        ra_sig = np.concatenate(ra_sig)\n",
    "        dec_sig = np.concatenate(dec_sig)\n",
    "        sigma_sig = np.concatenate(sigma_sig)\n",
    "    \n",
    "    # Combine sample\n",
    "    ev_ras = np.concatenate((ra_bg, ra_sig))\n",
    "    ev_decs = np.concatenate((dec_bg, dec_sig))\n",
    "    ev_sigmas = np.concatenate((sigma_bg, sigma_sig))\n",
    "    \n",
    "    assert len(sig_idx) == len(ev_ras) == len(ev_decs) == len(ev_sigmas)\n",
    "    \n",
    "    return ev_ras, ev_decs, ev_sigmas, sig_idx"
   ]
  },
  {
   "cell_type": "markdown",
   "metadata": {},
   "source": [
    "## Scans & Plots"
   ]
  },
  {
   "cell_type": "code",
   "execution_count": 3,
   "metadata": {
    "code_folding": [
     0
    ],
    "init_cell": true
   },
   "outputs": [],
   "source": [
    "def sky_scan(NSIDE, data, lnpriormap=None, ra0=None, dec0=None,\n",
    "             radius=np.deg2rad(5), ns_fix=False, box=None):\n",
    "    \"\"\"\n",
    "    Profile scan the LLH for given fixed events ras, decs on a NSIDE map\n",
    "    \n",
    "    Parameters\n",
    "    ----------\n",
    "    NSIDE : int\n",
    "        Resolution of the scan.\n",
    "    data : array-like\n",
    "        Holds fixed experimental data: [ev_ra, ev_dec, ev_sigma].\n",
    "    lnpriormap : array-like or None\n",
    "        If not None a prior is used for the ra, dec fit. Must be a list of maps\n",
    "        [lnprior_map, ln_prior_grad_th_map, ln_prior_grad_phi_map] holding\n",
    "        the healpy maps with the ln prior and the derivatives in theta and phi\n",
    "        (already divided by sin(theta) per pixel). (default: None)\n",
    "    ra0, dec0, radius : float, float, float\n",
    "        If given, scan only the pixels in radius around (ra0, dec0).\n",
    "    radius : float, optional\n",
    "        Scan radius around the selected source. (Default: np.deg2rad(5))\n",
    "    ns_fix : float or False\n",
    "        If not False, do not profile scan ns, but keep it fixed at every pix.\n",
    "    box : array-like, float or None\n",
    "        See `llh_ratio` for info, gets simply passed to function.\n",
    "        \n",
    "    Returns\n",
    "    -------\n",
    "    ns_map, llh, grad_map\n",
    "    \"\"\"\n",
    "    # If radius is given only scan so much pixels around ra0, dec0\n",
    "    NPIX = hp.nside2npix(NSIDE)\n",
    "    if ra0 is not None and dec0 is not None:\n",
    "        if ra0 < 0 or ra0 > 2*np.pi or dec0 < -np.pi/2 or dec0 > np.pi/2:\n",
    "            raise ValueError(\"ra0, dec0 must be in [0, 2pi]x[-pi/2, pi/2].\")\n",
    "        if radius <= 0:\n",
    "            raise ValueError(\"radius must be > 0.\")\n",
    "        vec0 = hp.dir2vec(DecRaToThetaPhi(dec0, ra0))\n",
    "        idx = hp.query_disc(NSIDE, vec0, radius, inclusive=True)\n",
    "    else:\n",
    "        idx = np.arange(NPIX)\n",
    "\n",
    "    # Get pixel positions in ra, dec\n",
    "    th_src, phi_src = hp.pix2ang(NSIDE, idx)\n",
    "    dec_src, ra_src = ThetaPhiToDecRa(th_src, phi_src)\n",
    "\n",
    "    ns_map = np.zeros(NPIX, dtype=float)\n",
    "    llh_map = np.zeros(NPIX, dtype=float)\n",
    "    grad_map = np.zeros((NPIX, 3), dtype=float)  # ns, ra, dec gradients\n",
    "    \n",
    "    if type(ns_fix) is bool:\n",
    "        if ns_fix:\n",
    "            raise ValueError(\"ns_fix can be False or a positive float.\")\n",
    "        # Profile scan by fitting ns in each pixel\n",
    "        for i, idx_i in enumerate(idx):\n",
    "            x0 = [1., ra_src[i], dec_src[i]]  # Simple 1D fit, seed > 0 is OK\n",
    "            res = fit_llh_ratio(x0=x0, fix_ra_dec=True, data=data,\n",
    "                                lnpriormap=lnpriormap, box=box)\n",
    "            ns_map[idx_i] = res.x\n",
    "            llh_map[idx_i] = -res.fun\n",
    "            # Get all gradients, need to call llh_ratio again...\n",
    "            x0[0] = res.x\n",
    "            TS, grad = llh_ratio(params=x0, data=data,\n",
    "                                 lnpriormap=lnpriormap, box=box)\n",
    "            assert np.isclose(-res.fun, TS)\n",
    "            grad_map[idx_i] = grad   # ns grad should always be <=0, test it!\n",
    "    else:\n",
    "        # Keep ns fixed for every pixel (all params fixed!)\n",
    "        if ns_fix < 0.:\n",
    "            raise ValueError(\"ns_fix must be >= 0 if not False.\")\n",
    "        for i, idx_i in enumerate(idx):\n",
    "            TS, grad = llh_ratio(params=[ns_fix, ra_src[i], dec_src[i]],\n",
    "                                 data=data, lnpriormap=lnpriormap, box=box)\n",
    "            ns_map[idx_i] = ns_fix\n",
    "            llh_map[idx_i] = TS\n",
    "            grad_map[idx_i] = grad\n",
    "        \n",
    "    return ns_map, llh_map, grad_map\n",
    "\n",
    "\n",
    "def sky_scan_full_radec(params, data, scan_idx, NSIDE, radius=np.deg2rad(5),\n",
    "                        lnpriormap=None, box=None):\n",
    "    \"\"\"\n",
    "    Profile scan using the full LLH around a single src ra, dec, keeping all\n",
    "    other parameters fixed.\n",
    "    \n",
    "    Parameters\n",
    "    ----------\n",
    "    NSIDE : int\n",
    "        Resolution of the scan.\n",
    "    data : array-like\n",
    "        Holds fixed experimental data: [ev_ra, ev_dec, ev_sigma].\n",
    "    scan_idx : int\n",
    "        Which of the sources to scan, is then using params [src_idx] to center\n",
    "        the scan at.\n",
    "    radius : float, optional\n",
    "        Scan radius around the selected source. (Default: np.deg2rad(5))\n",
    "    lnpriormap : array-like or None\n",
    "        If not None a prior is used for the ra, dec fit. Must be a list of maps\n",
    "        [lnprior_map, [ln_prior_grad_th_map], [ln_prior_grad_phi_map]] holding\n",
    "        the healpy maps with the ln prior and the derivatives in theta and phi\n",
    "        (already divided by sin(theta) per pixel). (default: None)\n",
    "    box : array-like, float or None\n",
    "        See `llh_ratio` for info, gets simply passed to function.\n",
    "        \n",
    "    Returns\n",
    "    -------\n",
    "    ns_map, llh, grad_map\n",
    "    \"\"\"\n",
    "    ns_fix = True\n",
    "    \n",
    "    params, _, _ = _select_events(params, data, box=None)\n",
    "    \n",
    "    # If radius is given only scan so much pixels around ra0, dec0\n",
    "    NPIX = hp.nside2npix(NSIDE)\n",
    "    if type(scan_idx) is int:\n",
    "        if scan_idx >= len(params[0]) or scan_idx < 0:\n",
    "            raise ValueError(\"scan_idx must be a valid index to a param array.\")\n",
    "    else:\n",
    "        raise ValueError(\"scan_idx must be an integer index.\")\n",
    "\n",
    "    ns0, ra0, dec0 = params[:, scan_idx]\n",
    "    vec0 = hp.dir2vec(DecRaToThetaPhi(dec0, ra0))\n",
    "    idx = hp.query_disc(NSIDE, vec0, radius, inclusive=True)\n",
    "\n",
    "    # Get pixel positions in ra, dec\n",
    "    th_src, phi_src = hp.pix2ang(NSIDE, idx)\n",
    "    dec_src, ra_src = ThetaPhiToDecRa(th_src, phi_src)\n",
    "\n",
    "    ns_map = np.zeros(NPIX, dtype=float)\n",
    "    llh_map = np.zeros(NPIX, dtype=float)\n",
    "    grad_map = np.zeros((NPIX, 3), dtype=float)  # ns, ra, dec gradients\n",
    "    \n",
    "    if type(ns_fix) is bool:\n",
    "        if ns_fix:\n",
    "            raise ValueError(\"ns_fix can be False or a positive float.\")\n",
    "        # Profile scan by fitting ns in each pixel\n",
    "        for i, idx_i in enumerate(idx):\n",
    "            x0 = [1., ra_src[i], dec_src[i]]  # Simple 1D fit, seed > 0 is OK\n",
    "            res = fit_llh_ratio(x0=x0, fix_ra_dec=True, data=data,\n",
    "                                lnpriormap=lnpriormap, box=box)\n",
    "            ns_map[idx_i] = res.x\n",
    "            llh_map[idx_i] = -res.fun\n",
    "            # Get all gradients, need to call llh_ratio again...\n",
    "            x0[0] = res.x\n",
    "            TS, grad = llh_ratio(params=x0, data=data,\n",
    "                                 lnpriormap=lnpriormap, box=box)\n",
    "            assert np.isclose(-res.fun, TS)\n",
    "            grad_map[idx_i] = grad   # ns grad should always be <=0, test it!\n",
    "    else:\n",
    "        # Keep ns fixed for every pixel (all params fixed!)\n",
    "        if ns_fix < 0.:\n",
    "            raise ValueError(\"ns_fix must be >= 0 if not False.\")\n",
    "        for i, idx_i in enumerate(idx):\n",
    "            TS, grad = llh_ratio(params=[ns_fix, ra_src[i], dec_src[i]],\n",
    "                                 data=data, lnpriormap=lnpriormap, box=box)\n",
    "            ns_map[idx_i] = ns_fix\n",
    "            llh_map[idx_i] = TS\n",
    "            grad_map[idx_i] = grad\n",
    "        \n",
    "    return ns_map, llh_map, grad_map"
   ]
  },
  {
   "cell_type": "markdown",
   "metadata": {},
   "source": [
    "## LLH"
   ]
  },
  {
   "cell_type": "code",
   "execution_count": 4,
   "metadata": {
    "code_folding": [
     0,
     42,
     63,
     92,
     165,
     262,
     298,
     339,
     463,
     528
    ],
    "init_cell": true
   },
   "outputs": [],
   "source": [
    "def pdf_sig(src_ras, src_decs, ras, decs, sigmas):\n",
    "    \"\"\"\n",
    "    Gaussian 2D PDF for signal (as injected)\n",
    "    \n",
    "    Returns\n",
    "    -------\n",
    "    pdf : array-like, shape (nsrcs, nevts)\n",
    "        Signal PDF values per source for all events.\n",
    "    grad : array-like, shape (2 * nsrcs, nevts)\n",
    "        Gradients [dra, ddec] for each src_ras, src_decs for each ras, decs.\n",
    "    \"\"\"\n",
    "    # Broadcast for multiple srcs: (nsrcs, nevts)\n",
    "    src_ras = np.atleast_1d(src_ras)[:, None]\n",
    "    src_decs = np.atleast_1d(src_decs)[:, None]\n",
    "    ras = np.atleast_1d(ras)[None, :]\n",
    "    decs = np.atleast_1d(decs)[None, :]\n",
    "    sigmas = np.atleast_1d(sigmas)[None, :]\n",
    "    \n",
    "    assert src_ras.shape == src_decs.shape\n",
    "    assert ras.shape == decs.shape == sigmas.shape\n",
    "    if len(src_ras.shape) != 2 or len(ras.shape) != 2:\n",
    "        raise ValueError(\"src and ev positions were no 1D arrays or floats.\")\n",
    "    \n",
    "    cos_dist = (np.cos(src_ras - ras) * np.cos(src_decs) * np.cos(decs) +\n",
    "                np.sin(src_decs) * np.sin(decs))\n",
    "    cos_dist = np.atleast_1d(np.clip(cos_dist, -1, 1))\n",
    "    # Angular distance squared for 2D gaussian\n",
    "    dist = np.arccos(cos_dist)\n",
    "    sig2 = sigmas**2\n",
    "    pdf = 0.5 / np.pi / sig2 * np.exp(-0.5 * dist**2 / sig2)\n",
    "    \n",
    "    # Use chain rule to get gradient in src_ras, src_decs\n",
    "    m = (cos_dist > -1.) & (cos_dist < 1.)\n",
    "    _grad = pdf * dist / sig2\n",
    "    # At -1, 1 the naive calculation diverges, but the gradient exists, so mask it\n",
    "    _grad[m] = _grad[m] / np.sqrt(1. - cos_dist[m]**2)\n",
    "    grad_ra = _grad * (np.sin(ras - src_ras) * np.cos(src_decs) * np.cos(decs))\n",
    "    grad_dec = _grad * (np.cos(src_ras - ras) * -np.sin(src_decs) *\n",
    "                np.cos(decs) + np.cos(src_decs) * np.sin(decs))\n",
    "    return pdf, np.vstack([grad_ra, grad_dec])\n",
    "\n",
    "\n",
    "def pdf_bg(src_decs, decs):\n",
    "    \"\"\"\n",
    "    Uniform PDF for BG (as injected)\n",
    "    \n",
    "    Returns\n",
    "    -------\n",
    "    pdf : array-like, shape (nsrcs, nevts)\n",
    "        BG PDF values per source for all events.\n",
    "    grad : array-like, shape (2 * nsrcs, nevts)\n",
    "        Gradients [dra, ddec] for each src_ra, src_dec for each ras, decs.\n",
    "    \"\"\"\n",
    "    src_decs = np.atleast_1d(src_decs)[:, None]\n",
    "    decs = np.atleast_1d(decs)[None, :]\n",
    "   \n",
    "    pdf = np.ones((src_decs.shape[0],\n",
    "                   decs.shape[1]), dtype=float) / (4. * np.pi)\n",
    "    grad = np.vstack([np.zeros_like(pdf), np.zeros_like(pdf)])\n",
    "    \n",
    "    return pdf, grad\n",
    "\n",
    "\n",
    "def pdf_sob(src_ras, src_decs, ras, decs, sigmas):\n",
    "    \"\"\"\n",
    "    Ratio of signal and bg PDFs. Gradient calculated with ratio rule.\n",
    "    \n",
    "    Returns\n",
    "    -------\n",
    "    sob : array-like, shape (nsrcs, nevts)\n",
    "        Signal over background PDF ratios per event and per source.\n",
    "    grad : array-like, shape (2 * nsrcs, nevts)\n",
    "        Gradients [dra, ddec] for each src_ras, src_decs for each ras, decs.\n",
    "    \"\"\"\n",
    "    sig_pdf, sig_grad = pdf_sig(src_ras, src_decs, ras, decs, sigmas)\n",
    "    bg_pdf, bg_grad = pdf_bg(src_decs, decs)\n",
    "\n",
    "    assert sig_pdf.shape == bg_pdf.shape\n",
    "    assert sig_grad.shape == bg_grad.shape\n",
    "\n",
    "    # Repeat PDF values, because gradient is both for ra and dec\n",
    "    sig_pdf_ = np.vstack((sig_pdf, sig_pdf))\n",
    "    bg_pdf_ = np.vstack((bg_pdf, bg_pdf))\n",
    "    # Quotient rule (u / v)' = (u'v - uv') / v**2, no special cases for ra/dec\n",
    "    # Here same as: sig_grad / bg_pdf, because bg_pdf is const -> bg_grad = 0\n",
    "    grad = (sig_grad * bg_pdf_ - sig_pdf_ * bg_grad) / bg_pdf_**2\n",
    "\n",
    "    assert np.allclose(grad, sig_grad / bg_pdf_)\n",
    "    \n",
    "    return sig_pdf / bg_pdf, grad\n",
    "\n",
    "\n",
    "def _select_events(params, data, box):\n",
    "    \"\"\"\n",
    "    Select all events or in boxes around each source.\n",
    "    \n",
    "    Parameters\n",
    "    ----------\n",
    "    See ``llh_ratio`` function docs for parameters.\n",
    "    \n",
    "    Returns\n",
    "    -------\n",
    "    params : tuple, shape (3, nsrcs)\n",
    "        Parameter values ``([ns0, ...], [src_ra0, ...], [src_dec0, ...])``.\n",
    "    data : tuple, shape (3, nevts)\n",
    "        Holds fixed experimental data: ``([ev_ras], [ev_decs], [ev_sigmas])``.\n",
    "    (Nall, Nsel, nsrcs) : tuple\n",
    "        Number of all original events, number of selected events and number of\n",
    "        sources, inferred from input params.\n",
    "    \"\"\"\n",
    "    if len(params) != 3:\n",
    "        raise ValueError(\"params must be (ns, src_ras, src_decs)\")\n",
    "    if len(data) != 3:\n",
    "        raise ValueError(\"data must be  (ras, decs, sigmas)\")\n",
    "    ns, src_ras, src_decs = [np.atleast_1d(pi) for pi in params]\n",
    "    ras, decs, sigmas = [np.atleast_1d(di) for di in data]\n",
    "    if np.any(np.abs(src_decs) > np.pi / 2.):\n",
    "        raise ValueError(\"src_dec(s) found outside valid range [-pi/2, pi/2].\")\n",
    "    nsrcs = len(src_ras)\n",
    "    Nall = float(len(ras))\n",
    "    \n",
    "    assert len(ras) == len(decs) == len(sigmas)\n",
    "    assert len(ns) == len(src_ras) == len(src_decs)\n",
    "    \n",
    "    # We need to wrap ra back to it's main range, otherwise box mode will break\n",
    "    # This might not work if we don't use analytic gradients, because the fitter\n",
    "    # only would see the euclidean diff in ra, which suddenly is 2pi.\n",
    "    src_ras = np.mod(src_ras - 2. * np.pi, 2. * np.pi)\n",
    "    \n",
    "    if box is not None:\n",
    "        box = 0.5 * np.atleast_1d(box)  # Centered box interval.\n",
    "        if len(box) != nsrcs:\n",
    "            if len(box) != 1:\n",
    "                raise ValueError(\"If len(box)!=nsrcs it must be a single nr.\")\n",
    "            box = np.repeat(box, repeats=nsrcs)\n",
    "      \n",
    "        # Closer to the poles we widen the box to get all significant SoBs\n",
    "        max_height = np.abs(src_decs) + box\n",
    "        # Avoid cases of cos(dec)<=0\n",
    "        band = np.ones_like(box) * np.pi\n",
    "        m = (max_height < np.deg2rad(89))\n",
    "        band[m] = box[m] / np.cos(max_height[m])\n",
    "\n",
    "        # Broadcast version, faster if enough memory\n",
    "        box = box[:, None]\n",
    "        band = band[:, None]\n",
    "        # Center around src and test symmetric box\n",
    "        ras_ = (ras[None, :] - src_ras[:, None])\n",
    "        ra_m = (((ras_ > -band) & (ras_ < band)) | \n",
    "                ((ras_ > 2. * np.pi - band) | (ras_ < -2. * np.pi + band)))\n",
    "        dec_m = ((decs[None, :] > src_decs[:, None] - box) &\n",
    "                 (decs[None, :] < src_decs[:, None] + box))\n",
    "        \n",
    "        band_m = np.any(ra_m & dec_m, axis=0)\n",
    "\n",
    "        Nsel = float(np.sum(band_m))\n",
    "        ras = ras[band_m]\n",
    "        decs = decs[band_m]\n",
    "        sigmas = sigmas[band_m]\n",
    "    else:\n",
    "        Nsel = Nall\n",
    "        \n",
    "    return [ns, src_ras, src_decs], [ras, decs, sigmas], (Nall, Nsel, nsrcs)\n",
    "\n",
    "\n",
    "def llh_ratio(params, data, lnpriormap=None, box=None):\n",
    "    \"\"\"\n",
    "    Standard PS likelihood ratio, depending on ns and {src_ras, src_decs}.\n",
    "    TS = 2 * [ln(L1) - ln(L0)]\n",
    "    \n",
    "    Parameters\n",
    "    ----------\n",
    "    params : tuple, shape (3, nsrcs)\n",
    "        Parameter values ``([ns0, ...], [src_ra0, ...], [src_dec0, ...])``.\n",
    "    data : tuple, shape (3, nevts)\n",
    "        Holds fixed experimental data: ``([ev_ras], [ev_decs], [ev_sigmas])``.\n",
    "    lnpriormap : tuple, shape (3, ...) or None\n",
    "        If not None a prior is used for the ra, dec fit. Must be a list of maps\n",
    "        ``(lnprior_map, [ln_prior_grad_th_maps], [ln_prior_grad_phi_map])``\n",
    "        holding the single summed ln(prior) healpy map and and the nsrcs\n",
    "        derivate maps in in dtheta and dphi (already divided by sin(theta) per\n",
    "        pixel). (default: None)\n",
    "    band : array-like or None\n",
    "        If not ``None`` give the width of a dec band centered at each src in\n",
    "        which events are selected to speed up PDF evaluation. (Default: None)\n",
    "    \n",
    "    Returns\n",
    "    -------\n",
    "    TS : float\n",
    "    grad : array-like\n",
    "    \"\"\"      \n",
    "    # Get selected and prepared events and calc SoBs and gradients\n",
    "    params, data, (Nall, Nsel, nsrcs) = _select_events(params, data, box)\n",
    "    (ns, src_ras, src_decs), (ras, decs, sigmas) = params, data    \n",
    "    sob, sob_grad = pdf_sob(src_ras, src_decs, ras, decs, sigmas)\n",
    "    \n",
    "    # Calculate TS = 2 * (ln(L1) - ln(L0)), broadcast for multiple ns (per src)\n",
    "    ns = ns[:, None]\n",
    "    ns_sum = np.sum(ns)\n",
    "    a = np.sum(ns * sob, axis=0) - ns_sum   # shape (nevts)\n",
    "    assert len(a) == len(ras) == Nsel\n",
    "\n",
    "    TS = np.sum(np.log1p(a / Nall))         # float\n",
    "      \n",
    "    # Get gradients in all params (nsrcs * {ns, ra, dec}) using chain rule\n",
    "    grad_denom = 1. / (a + Nall)                              # shape (nsrcs)\n",
    "    grad_ns = np.sum((sob - 1.) * grad_denom, axis=1)         # shape (nsrcs)\n",
    "    # sob_grad is [grad_ra, grad_dec] so repeat ns for both.  # shape (nsrcs)\n",
    "    grad_radec = np.sum(np.vstack((ns, ns)) * sob_grad * grad_denom, axis=1)\n",
    "    \n",
    "    # If we use box mode, TS & ns gradients need to account for all S=0 events\n",
    "    if Nsel < Nall:\n",
    "        diffN = Nall - Nsel\n",
    "        assert diffN > 0\n",
    "        TS += diffN * np.log1p(-ns_sum / Nall)  # float\n",
    "        grad_ns -= diffN / (Nall - ns_sum)      # shape (nsrcs)\n",
    "        assert len(grad_ns) == nsrcs\n",
    "    \n",
    "    # As we operate on spherical coordinates, we need to scale the ra gradients\n",
    "    cos_decs = np.cos(src_decs)\n",
    "    m = ~np.isclose(cos_decs, 0.)\n",
    "    # At the poles the gradient is ill defined anyway\n",
    "    grad_ra = np.zeros(nsrcs, dtype=float)\n",
    "    grad_ra[m] = grad_radec[:nsrcs][m] / cos_decs[m]\n",
    "    grad_radec = np.concatenate((grad_ra, grad_radec[nsrcs:]))\n",
    "    \n",
    "    assert len(grad_ns) == nsrcs\n",
    "    assert len(grad_ra) == nsrcs\n",
    "    assert len(grad_radec) == 2 * nsrcs\n",
    "        \n",
    "    # Include values from prior maps if we have any\n",
    "    if lnpriormap is not None:\n",
    "        if len(lnpriormap) != 3:\n",
    "            raise ValueError(\"Need concatenated map arrays (sum(ln(prior)), \" +\n",
    "                             \"[d/dth ln(priors)], [d/phi ln(priors)]).\")\n",
    "        \n",
    "        lnprior, lnpriors_dth, lnpriors_dphi = lnpriormap\n",
    "        if (hp.maptype(lnpriors_dth) != nsrcs or\n",
    "                hp.maptype(lnpriors_dth) != nsrcs):\n",
    "            raise ValueError(\"dth, dphi priors need one gradient map per src.\")\n",
    "        \n",
    "        # Get prior, all srcs are summed up, single map is sufficient\n",
    "        src_ths, src_phis = DecRaToThetaPhi(src_decs, src_ras)\n",
    "        TS += np.sum(hp.get_interp_val(m=lnprior, theta=src_ths, phi=src_phis))\n",
    "        \n",
    "        lnprior_grad_ra = np.zeros(nsrcs, dtype=float)\n",
    "        lnprior_grad_dec = np.zeros(nsrcs, dtype=float)\n",
    "        # Get gradients from dth, dphi maps per source\n",
    "        for i, (th, phi) in enumerate(zip(src_ths, src_phis)):\n",
    "            # No sign for ra: ra = phi\n",
    "            lnprior_grad_ra[i] = hp.get_interp_val(m=lnpriors_dphi[i],\n",
    "                                                   theta=th, phi=phi)\n",
    "            # Negative sign for dec: th = np.pi / 2 - dec -> dth/ddec = -1\n",
    "            lnprior_grad_dec[i] = -hp.get_interp_val(m=lnpriors_dth[i],\n",
    "                                                     theta=th, phi=phi)\n",
    "\n",
    "        # Add back to LLH gradients\n",
    "        grad_radec += np.concatenate((lnprior_grad_ra, lnprior_grad_dec))\n",
    "            \n",
    "    return 2. * TS, 2. * np.concatenate([grad_ns, grad_radec])\n",
    "\n",
    "\n",
    "def fit_llh_ratio_radec(x0, data, fix_ra_dec=False, lnpriormap=None, box=None):\n",
    "    \"\"\"\n",
    "    Fit the multi source likelihood ratio defined in `llh_ratio`.\n",
    "    Special wrapper case, where only all parameters, or {ns} but not the\n",
    "    {ra, decs} can be fitted.\n",
    "    For more control on which parameter gets fitted, use `fit_llh_ratio`.\n",
    "    \n",
    "    Parameters\n",
    "    ----------\n",
    "    x0 : array-like\n",
    "        Start values [ns0, ra0, dec0] for the fit. If ``fix_ra_dec`` is\n",
    "        ``True`` only the {ns} values are fitted.\n",
    "    data : array-like\n",
    "        Holds fixed experimental data: [ev_ra, ev_dec, ev_sigma].\n",
    "    fix_ra_dec : bool\n",
    "        If True x[1], x[2] = ra_fix, dec_fix are held fixed and only ns is\n",
    "        minimizedto. Else ns, ra, dec are fitted and x0 os the seed for all\n",
    "        parameters. (default: False)\n",
    "    lnpriormap : array-like or None\n",
    "        If not None a prior is used for the ra, dec fit. Must be a list of maps\n",
    "        [lnprior_map, ln_prior_grad_th_map, ln_prior_grad_phi_map] holding\n",
    "        the healpy maps with the ln prior and the derivatives in theta and phi\n",
    "        (already divided by sin(theta) per pixel). (default: None)\n",
    "    box : array-like or None\n",
    "        If not ``None`` give the width of a dec box centered at each src in\n",
    "        which events are selected to speed up PDF evaluation. (Default: None)\n",
    "    \"\"\"\n",
    "    # If x0 is badly formatted it crashes in `fit_llh_ratio`, so no check here\n",
    "    nsrcs = len(np.atleast_1d(x0[0]))\n",
    "    fitted = np.ones((3, nsrcs), dtype=bool)\n",
    "    if fix_ra_dec:\n",
    "        fitted[1:] = False\n",
    "\n",
    "    return fit_llh_ratio(x0, data, fitted, lnpriormap=lnpriormap, box=box)\n",
    "\n",
    "\n",
    "def fit_llh_ratio_onesrc(x0, data, src_idx, fix_ra_dec=False, lnpriormap=None,\n",
    "                         box=None):\n",
    "    \"\"\"\n",
    "    Fit the multi source likelihood ratio defined in `llh_ratio`.\n",
    "    Special wrapper case, where only a single source is fitted in (ns, ra, dec),\n",
    "    but other src parameters can be held fixed.\n",
    "    If fix_radec is True, then only ns is fitted for that single src (1D fit).\n",
    "    For more control on which parameter gets fitted, use `fit_llh_ratio`.\n",
    "    \n",
    "    Parameters\n",
    "    ----------\n",
    "    x0 : array-like\n",
    "        Start values [ns0, ra0, dec0] for the fit. If ``fix_ra_dec`` is\n",
    "        ``True`` only the {ns} values are fitted.\n",
    "    data : array-like\n",
    "        Holds fixed experimental data: [ev_ra, ev_dec, ev_sigma].\n",
    "    src_idx : int\n",
    "        Select the source to fit ns or (ns, ra, dec) for with every other\n",
    "        parameter held fixed.\n",
    "    fix_ra_dec : bool\n",
    "        If True only ns is fitted, else (ns, ra, dec). (default: False)\n",
    "    lnpriormap : array-like or None\n",
    "        If not None a prior is used for the ra, dec fit. Must be a list of maps\n",
    "        [lnprior_map, ln_prior_grad_th_map, ln_prior_grad_phi_map] holding\n",
    "        the healpy maps with the ln prior and the derivatives in theta and phi\n",
    "        (already divided by sin(theta) per pixel). (default: None)\n",
    "    box : array-like or None\n",
    "        If not ``None`` give the width of a dec box centered at each src in\n",
    "        which events are selected to speed up PDF evaluation. (Default: None)\n",
    "    \"\"\"\n",
    "    # If x0 is badly formatted it crashes in `fit_llh_ratio`, so no check here\n",
    "    nsrcs = len(np.atleast_1d(x0[0]))\n",
    "    fitted = np.zeros((3, nsrcs), dtype=bool)\n",
    "    if fix_ra_dec:\n",
    "        fitted[0, src_idx] = True\n",
    "    else:\n",
    "        fitted[:, src_idx] = True\n",
    "\n",
    "    return fit_llh_ratio(x0, data, fitted, lnpriormap=lnpriormap, box=box)\n",
    "\n",
    "\n",
    "def fit_llh_ratio(x0, data, fitted, lnpriormap=None, box=None):\n",
    "    \"\"\"\n",
    "    Only fit in the parameters not declared fixed, but still using the complete\n",
    "    multi source likelihood.\n",
    "    \n",
    "    Parameters\n",
    "    ----------\n",
    "    x0 : array-like, shape (3, nsrcs)\n",
    "        Start values [ns0, ra0, dec0] for the fit. Bool mask ``fixed``\n",
    "        determines which parameter is actually fitted.\n",
    "    data : array-like, shape (3, nevts)\n",
    "        Holds fixed experimental data: [ev_ra, ev_dec, ev_sigma].\n",
    "    fitted : array-like, bool, shape (3, nsrcs)\n",
    "        Indices indicating which parameters sould be fitted, others are fixed.\n",
    "    lnpriormap : array-like or None\n",
    "        If not None a prior is used for the ra, dec fit. Must be a list of maps\n",
    "        [lnprior_map, ln_prior_grad_th_map, ln_prior_grad_phi_map] holding\n",
    "        the healpy maps with the ln prior and the derivatives in theta and phi\n",
    "        (already divided by sin(theta) per pixel). (default: None)\n",
    "    box : array-like or None\n",
    "        If not ``None`` give the width of a dec box centered at each src in\n",
    "        which events are selected to speed up PDF evaluation. (Default: None)\n",
    "    \"\"\"\n",
    "    assert len(data[0]) == len(data[1]) == len(data[2])\n",
    "\n",
    "    if len(x0) != 3:\n",
    "        raise ValueError(\"x0 must be [ns0, ra0, dec0].\")\n",
    "    if len(fitted) != 3:\n",
    "        raise ValueError(\"fitted must be [ns_mask, ra_mask, dec_mask].\")\n",
    "        \n",
    "    x0 = [np.atleast_1d(x0i) for x0i in x0]\n",
    "    fitted = [np.atleast_1d(fi) for fi in fitted]\n",
    "    nsrcs = len(x0[0])\n",
    "    if not np.all([len(x0i) == nsrcs for x0i in x0[1:]]):\n",
    "        raise ValueError(\"{ns, ra, dec} arrays in x0 must be the same size.\")\n",
    "    if not np.all([len(fi) == nsrcs for fi in fitted]):\n",
    "        raise ValueError(\"All fitted masks must be the same size.\")\n",
    "    \n",
    "    x0 = np.array(x0)\n",
    "    fitted = np.array(fitted)\n",
    "    if not fitted.dtype == bool:\n",
    "        raise ValueError(\"fitted must be a list of bool arrays.\")\n",
    "    \n",
    "    # Just evaluate the LLH if all params are fixed\n",
    "    if not np.any(fitted):\n",
    "        raise ValueError(\"All parameters fixed, just evaluating the LLH:\")\n",
    "        return llh_ratio(x0, data, lnpriormap, box)\n",
    "        \n",
    "    # Stitch together boundary blocks for ns, ra, dec\n",
    "    bnds = [[0, len(data[0])],          # ns\n",
    "            [-2. * np.pi, 4. * np.pi],  # ra, pad interval for correct wrapping\n",
    "            [-np.pi / 2., np.pi / 2.]]  # dec\n",
    "\n",
    "    assert len(bnds) == len(np.sum(fitted, axis=1))\n",
    "    bounds = np.concatenate([ni * bnd for ni, bnd in\n",
    "        zip(np.sum(fitted, axis=1), bnds)]).reshape(np.sum(fitted), 2)\n",
    "    \n",
    "    # Some fixed stuff reused in fit\n",
    "    x0_fit = x0[fitted]\n",
    "    ns_fit, ra_fit, dec_fit = np.sum(fitted, axis=1)\n",
    "    fitted_flat = np.ravel(fitted)\n",
    "        \n",
    "    def fitfunc(params):\n",
    "        \"\"\" Wrapper to minimize the negative LLH \"\"\"\n",
    "        # Rebuild whole parameter set\n",
    "        x0[fitted] = params\n",
    "        TS, grad = llh_ratio(x0, data, lnpriormap, box)\n",
    "        \n",
    "        # Select gradients\n",
    "        return -TS, -grad[fitted_flat]\n",
    "        \n",
    "    # Fit until we get a succesful result, but stop at maxiter\n",
    "    maxiter = 10\n",
    "    tol = 1e-14\n",
    "    fit_opts = {\"ftol\": tol, \"gtol\": 1e-8}\n",
    "    for _ in range(maxiter):\n",
    "        # Start with a single L-BFGS-B fit\n",
    "        res = sco.minimize(fitfunc, x0=x0_fit, jac=True, bounds=bounds,\n",
    "                           options=fit_opts, tol=tol, method=\"L-BFGS-B\")\n",
    "        if res.success:\n",
    "            break\n",
    "        \n",
    "        # If not succesful, try different fitter on same seed first\n",
    "        print(\"  ! Bad fit, retry with other fitter.\")\n",
    "        res = sco.minimize(fitfunc, x0=res.x, jac=True, bounds=bounds,\n",
    "                           method=\"SLSQP\", tol=tol, options={\"ftol\": tol})\n",
    "        if res.success:\n",
    "            break\n",
    "        \n",
    "        # If still not succesful, change seeds a bit towards the gradients\n",
    "        print(\"  res.message\", res.message)\n",
    "        print(\"  ! Bad fit, retry with other seed.\")\n",
    "        ns0 = res.x[:ns_fit]\n",
    "        ra0 = res.x[ns_fit:ns_fit+ra_fit]\n",
    "        dec0 = res.x[-dec_fit:]\n",
    "        dns0 = res.jac[:ns_fit]\n",
    "        dra0 = res.jac[ns_fit:ns_fit+ra_fit]\n",
    "        ddec0 = res.jac[-dec_fit:]\n",
    "        \n",
    "        # Don't seed {ns} very close to 0, we might get stuck there because\n",
    "        # {ra, dec} gradients get zero everywhere\n",
    "        # ns0 = np.clip(np.random.uniform(ns0 - 0.1, ns0 + 0.1, size=ns_fit),\n",
    "        #               0.1, None)\n",
    "        \n",
    "        # Just wiggle a bit at the direction in sub deg range\n",
    "        # dra0 = np.random.uniform(*np.deg2rad([-0.1, 0.1]), size=ra_fit)\n",
    "        # ddec0 = np.random.uniform(*np.deg2rad([-0.1, 0.1]), size=dec_fit)\n",
    "        \n",
    "        # Go manually a little bit along the current gradients\n",
    "        ns0 = np.clip(ns0 + np.clip(dns0, -0.1, 0.1),\n",
    "                      bounds[:ns_fit, 0], bounds[:ns_fit, 1])\n",
    "        ra0 = np.clip(ra0 + np.clip(dra0,*np.deg2rad([-0.1, 0.1])),\n",
    "                      bounds[ns_fit:ns_fit+ra_fit, 0],\n",
    "                      bounds[ns_fit:ns_fit+ra_fit, 1])\n",
    "        dec0 = np.clip(dec0 + np.clip(ddec0,*np.deg2rad([-0.1, 0.1])),\n",
    "                       bounds[-dec_fit, 0], bounds[-dec_fit:, 1])\n",
    "\n",
    "        # Combine to new seed vector\n",
    "        x0_fit = np.concatenate((ns0, ra0, dec0))\n",
    "        assert len(x0_fit) == ns_fit + ra_fit + dec_fit == np.sum(fitted_flat)\n",
    "        \n",
    "    return res\n",
    "\n",
    "\n",
    "def map_der(m):\n",
    "    \"\"\"\n",
    "    Calculate a map derivative in th and phi directly: Get the derivative on a\n",
    "    regular grid, then turn them into a map.\n",
    "    We need to do this numerically using map interpolations, but we avoid\n",
    "    ringing effects due to limited resolution in alm expansion.\n",
    "    \n",
    "    Parameters\n",
    "    ----------\n",
    "    m : array-like\n",
    "        Valid healpy map.\n",
    "        \n",
    "    Returns\n",
    "    -------\n",
    "    grad_phi : array-like, shape (len(m))\n",
    "        Gradient map in phi, already divided by sin(theta) per pixel.\n",
    "    grad_th : array-like, shape (len(m))\n",
    "        Gradient map in theta.\n",
    "    \"\"\"\n",
    "    NSIDE = hp.get_nside(m)\n",
    "\n",
    "    # Set stepsize (arbitrary) to the next better resolution (angle in radian)\n",
    "    h = hp.nside2resol(2 * NSIDE)\n",
    "    \n",
    "    # Create new (phi, th) gridpoints\n",
    "    phis = np.linspace(0, 2 * np.pi, int(np.ceil(2 * np.pi / h) + 1))\n",
    "    ths = np.linspace(0, np.pi, int(np.ceil(np.pi / h) + 1))\n",
    "    sin_ths = np.sin(ths)[:, None]\n",
    "    \n",
    "    # Wrap to get the symmetric gradients for all inner points\n",
    "    phis = np.r_[phis[-1], phis, phis[0]]  # Periodic in phi\n",
    "    ths = np.r_[ths[1], ths, ths[-2]]      # Going around the poles in theta\n",
    "    \n",
    "    # Get map values at new (phi, th) grid\n",
    "    phis_, ths_ = np.meshgrid(phis, ths)\n",
    "    PHIS, THS = map(np.ravel, [phis_, ths_])\n",
    "    vals = hp.get_interp_val(m=m, phi=PHIS, theta=THS).reshape(phis_.shape)\n",
    "    \n",
    "    # Get the gradients using symmetric finite elemts\n",
    "    grad_phi = (vals[:, 2:] - vals[:, :-2])[1:-1] / (2. * h)\n",
    "    grad_th = (vals[2:] - vals[:-2])[:, 1:-1] / (2. * h)\n",
    "    \n",
    "    # Gradient in phi must be divided by sin(th) for the spherical gradient\n",
    "    mask = (sin_ths == 0.)\n",
    "    sin_ths[mask] = 1.  # At the poles the phi gradient is useless anyway\n",
    "    grad_phi = grad_phi / sin_ths\n",
    "    \n",
    "    # Recombine to a map by averaging all gradients falling in a pixel\n",
    "    PHIS, THS = map(np.ravel, np.meshgrid(phis[1:-1], ths[1:-1]))\n",
    "    idx = hp.ang2pix(NSIDE, THS, PHIS)\n",
    "    grad_phi = np.ravel(grad_phi)\n",
    "    grad_th = np.ravel(grad_th)\n",
    "    \n",
    "    # Get count map for averaging\n",
    "    NPIX = hp.nside2npix(NSIDE)\n",
    "    count_map = np.bincount(idx, minlength=NPIX)\n",
    "    count_map[count_map == 0] = 1.\n",
    "\n",
    "    # Average gradients\n",
    "    grad_phi = np.bincount(idx, minlength=NPIX, weights=grad_phi) / count_map\n",
    "    grad_th = np.bincount(idx, minlength=NPIX, weights=grad_th) / count_map\n",
    "        \n",
    "    return grad_phi, grad_th\n",
    "\n",
    "\n",
    "def get_seed_scan(src_ras, src_decs, radii, NSIDE, data, lnpriormap=None,\n",
    "                  box=None):\n",
    "    \"\"\"\n",
    "    Do a low res skyscan in a region around each source and profile fit the ns\n",
    "    parameter for this source only for each pixel.\n",
    "    The pixel with the best TS is used for the global fit over all {ns, ra, dec}\n",
    "    parameters in the stacked LLH.\n",
    "    \n",
    "    This is an approximation only, because due to stacking the source regions\n",
    "    are correlated and the single ns fit might not represent the location and\n",
    "    nsj for the stacking best fit.\n",
    "    \n",
    "    Parameters\n",
    "    ----------\n",
    "    src_ras, src_decs : array-like, shape (nsrcs)\n",
    "        Src positions in equtorial coordinates in radian.\n",
    "    radii : array-like\n",
    "        Radii in radian around the centers of each source for which pixel with\n",
    "        the given ``NSIDE`` resolution are built and walkers are placed at.\n",
    "    NSIDE : int\n",
    "        Healpy resolution parameter. Together with radii, this determines the\n",
    "        number of pixels scanned per source region.\n",
    "    data : tuple, shape (3, nevts)\n",
    "        Holds fixed experimental data: ``([ev_ras], [ev_decs], [ev_sigmas])``.\n",
    "    lnpriormap : tuple, shape (3, ...) or None\n",
    "        If not None a prior is used for the ra, dec fit. Must be a list of maps\n",
    "        [lnprior_map, ln_prior_grad_th_map, ln_prior_grad_phi_map] holding\n",
    "        the healpy maps with the ln prior and the derivatives in theta and phi\n",
    "        (already divided by sin(theta) per pixel). (default: None)\n",
    "    box : array-like or None\n",
    "        If not ``None`` give the width of a dec box centered at each src in\n",
    "        which events are selected to speed up PDF evaluation. (Default: None)\n",
    "        \n",
    "    Returns\n",
    "    -------\n",
    "    ns_seed, ra_seed, dec_seed : array-like, shape (nsrcs)\n",
    "        Seed positions {ns, ra, dec} for each source to be used in the fitter\n",
    "        which will most likely yield the global minimum.\n",
    "    \"\"\"\n",
    "    # Check params and data format sanity\n",
    "    (_, src_ras, src_decs), data, (_, _, nsrcs) = _select_events(\n",
    "        (len(src_ras) * [-1], src_ras, src_decs), data, box=None)\n",
    "    radii = np.atleast_1d(radii)\n",
    "    if len(radii) != nsrcs:\n",
    "        raise ValueError(\"radii must have length nsrcs.\")\n",
    "        \n",
    "    if lnpriormap is not None:\n",
    "        if len(lnpriormap) != 3:\n",
    "            raise ValueError(\"Need concatenated map arrays (sum(ln(prior)), \" +\n",
    "                             \"[d/dth ln(priors)], [d/phi ln(priors)]).\")\n",
    "        \n",
    "        lnprior, lnpriors_dth, lnpriors_dphi = lnpriormap\n",
    "        if (hp.maptype(lnpriors_dth) != nsrcs or\n",
    "                hp.maptype(lnpriors_dphi) != nsrcs):\n",
    "            raise ValueError(\"dth, dphi priors need one gradient map per src.\")\n",
    "    \n",
    "    if box is None:\n",
    "        box = nsrcs * [None]\n",
    "    else:\n",
    "        box = np.atleast_1d(box)\n",
    "        if len(box) == 1:\n",
    "            box = np.repeat(box, repeats=nsrcs)\n",
    "        elif len(box) != nsrcs:\n",
    "            raise ValueError(\"box can be None, single float or length nsrcs.\")\n",
    "    \n",
    "    vecs = hp.ang2vec(*DecRaToThetaPhi(src_decs, src_ras))  # shape (nsrcs, 3)\n",
    "    ns_seed, phi_seed, th_seed = np.zeros((3, nsrcs), dtype=float)\n",
    "    ns0 = 2.  # Standard 1D fits per pixel, simple seed >> 0 is OK\n",
    "    fitted = [[True], [False], [False]]\n",
    "    \n",
    "    assert len(ns_seed) == len(phi_seed) == len(th_seed) == len(vecs) == nsrcs\n",
    "    \n",
    "    for j, (veci, ri) in enumerate(zip(vecs, radii)):\n",
    "        # Get selected scan pixel positions in ra, dec\n",
    "        idx = hp.query_disc(NSIDE, veci, ri, inclusive=True)\n",
    "        th_scan, phi_scan = hp.pix2ang(NSIDE, idx)\n",
    "        dec_scan, ra_scan = ThetaPhiToDecRa(th_scan, phi_scan)\n",
    "        \n",
    "        # Setup priormaps for the correct src. Use the summed prior map, to get\n",
    "        # some of the possible src correlation at least.\n",
    "        lnpriormap_ = (lnpriormap[0], [lnpriormap[1][j]], [lnpriormap[2][j]])\n",
    "\n",
    "        # Scan each pixel -> Try to run in multiprocessing?\n",
    "        TS, ns = np.zeros((2, len(idx)), dtype=float)\n",
    "        for i, idx_i in enumerate(idx):\n",
    "            res = fit_llh_ratio(x0=[ns0, ra_scan[i], dec_scan[i]],\n",
    "                                data=data, lnpriormap=lnpriormap_,\n",
    "                                box=box[j], fitted=fitted)\n",
    "            TS[i], ns[i] = res.fun, res.x[0]\n",
    "            \n",
    "        # Get best pixel position. Minimum because we fitted negLLH\n",
    "        best_idx = np.argmin(TS)\n",
    "        ns_seed[j] = ns[best_idx]\n",
    "        th_seed[j], phi_seed[j] = hp.pix2ang(NSIDE, idx[best_idx])\n",
    "\n",
    "    # Return best seed {ra, dec} per source\n",
    "    dec_seed, ra_seed = ThetaPhiToDecRa(th_seed, phi_seed)\n",
    "    return ns_seed, ra_seed, dec_seed"
   ]
  },
  {
   "cell_type": "markdown",
   "metadata": {},
   "source": [
    "# Testplots"
   ]
  },
  {
   "cell_type": "markdown",
   "metadata": {},
   "source": [
    "## Test multisource fit with seeding"
   ]
  },
  {
   "cell_type": "code",
   "execution_count": null,
   "metadata": {},
   "outputs": [],
   "source": [
    "rnd_gen = np.random.RandomState(43374563)\n",
    "nbg = int(1e5)\n",
    "# src_ras = np.deg2rad([40, 20, 277, 300, 310])  # \"pass2\" setting\n",
    "src_ras = np.deg2rad([40, 20, 359, 0.1, 1])\n",
    "src_decs = np.deg2rad([70, 6, -80, -35, 0])\n",
    "# nsig = np.arange(len(src_ras)) + 1\n",
    "nsig = np.zeros_like(src_ras, dtype=int)\n",
    "sig = {\"nsig\": nsig, \"ra\": src_ras, \"dec\": src_decs, \"sigma\": 0.}\n",
    "ras, decs, sigmas, idx = make_sample(nbg, sig=sig, rnd=rnd_gen)\n",
    "\n",
    "data = (ras, decs, sigmas)\n",
    "nsrcs = len(src_ras)"
   ]
  },
  {
   "cell_type": "code",
   "execution_count": null,
   "metadata": {
    "scrolled": true
   },
   "outputs": [],
   "source": [
    "%%time\n",
    "# Construct priors for visual comparison only (see note on top)\n",
    "NSIDE_prior = 512\n",
    "src_ths, src_phis = DecRaToThetaPhi(src_decs, src_ras)\n",
    "sigma0 = np.deg2rad([1., 1.2, 0.7, 1., 1.5])\n",
    "    \n",
    "ln_priors = []\n",
    "ln_priors_dphi = []\n",
    "ln_priors_dth = []\n",
    "for i, (th0i, phi0i, sigma0i) in enumerate(zip(src_ths, src_phis, sigma0)):\n",
    "    print(u\"Making prior at: RA={:.2f}°, DEC={:.2f}°, SIGMA={:.3f}°\".format(\n",
    "        np.rad2deg(ThetaPhiToDecRa(th0i, phi0i)[1])[0], \n",
    "        np.rad2deg(ThetaPhiToDecRa(th0i, phi0i)[0])[0], np.rad2deg(sigma0i)))\n",
    "    prior = gaussian_on_a_sphere(mean_th=th0i, mean_phi=phi0i, \n",
    "                                 clip=5., NSIDE=NSIDE_prior, sigma=sigma0i)[0]\n",
    "    # Avoid taking the log of 0, use the smallest valid map number instead\n",
    "    prior[prior <= 0] = np.amin(prior[prior > 0])\n",
    "    ln_prior = np.log(prior)\n",
    "\n",
    "    # Make src_ras, src_decs more realistic by setting it to the map maximum\n",
    "    idx = np.argmax(ln_prior)\n",
    "    src_ths[i], src_phis[i] = hp.pix2ang(NSIDE_prior, idx)\n",
    "    src_decs[i], src_ras[i] = ThetaPhiToDecRa(src_ths[i], src_phis[i])\n",
    "    print(\"  New src pos at maximum of the prior map: \" +\n",
    "          \"RA={:.2f}°, DEC={:.2f}°\".format(*np.rad2deg((src_ras[i], src_decs[i]))))\n",
    "\n",
    "    # Get the log derivatives from the finite elements method\n",
    "    ln_prior_dphi, ln_prior_dth = map_der(ln_prior)\n",
    "    \n",
    "    ln_priors.append(ln_prior)\n",
    "    ln_priors_dphi.append(ln_prior_dphi)\n",
    "    ln_priors_dth.append(ln_prior_dth)\n",
    "    \n",
    "lnpriormap = (np.sum(ln_priors, axis=0), ln_priors_dth, ln_priors_dphi)"
   ]
  },
  {
   "cell_type": "markdown",
   "metadata": {},
   "source": [
    "Get seeds from local scans. First with low res seed scan"
   ]
  },
  {
   "cell_type": "code",
   "execution_count": null,
   "metadata": {
    "scrolled": false
   },
   "outputs": [],
   "source": [
    "%%time\n",
    "NSIDE_seed = 32\n",
    "radii = 3. * sigma0\n",
    "box = np.deg2rad(15)\n",
    "\n",
    "seeds = get_seed_scan(src_ras, src_decs, radii, NSIDE_seed, data,\n",
    "                      lnpriormap=lnpriormap, box=box)\n",
    "ns_seed, ra_seed, dec_seed = seeds\n",
    "[print(si) for si in seeds]"
   ]
  },
  {
   "cell_type": "code",
   "execution_count": null,
   "metadata": {},
   "outputs": [],
   "source": [
    "i = 0\n",
    "lnpriormap_ = (lnpriormap[0], [lnpriormap[1][i]], [lnpriormap[2][i]])\n",
    "res = fit_llh_ratio_radec(x0=[ns_seed[i], ra_seed[i], dec_seed[i]], data=data,\n",
    "                          fix_ra_dec=False, lnpriormap=lnpriormap_, box=box)\n",
    "res"
   ]
  },
  {
   "cell_type": "markdown",
   "metadata": {},
   "source": [
    "Refit with higher res scan, we should be close to the other fit everything works OK."
   ]
  },
  {
   "cell_type": "code",
   "execution_count": null,
   "metadata": {
    "scrolled": false
   },
   "outputs": [],
   "source": [
    "%%time\n",
    "NSIDE_seed = 128\n",
    "radii = 3. * sigma0\n",
    "box = np.deg2rad(15)\n",
    "\n",
    "seeds_hr = get_seed_scan(src_ras, src_decs, radii, NSIDE_seed, data,\n",
    "                         lnpriormap=lnpriormap, box=box)\n",
    "ns_seed_hr, ra_seed_hr, dec_seed_hr = seeds_hr\n",
    "[print(si) for si in seeds_hr]"
   ]
  },
  {
   "cell_type": "code",
   "execution_count": null,
   "metadata": {},
   "outputs": [],
   "source": [
    "i = 0\n",
    "lnpriormap_ = (lnpriormap[0], [lnpriormap[1][i]], [lnpriormap[2][i]])\n",
    "res = fit_llh_ratio_radec(x0=[ns_seed_hr[i], ra_seed_hr[i], dec_seed_hr[i]], data=data,\n",
    "                          fix_ra_dec=False, lnpriormap=lnpriormap_, box=box)\n",
    "res"
   ]
  },
  {
   "cell_type": "markdown",
   "metadata": {},
   "source": [
    "Scan for all parameters"
   ]
  },
  {
   "cell_type": "code",
   "execution_count": null,
   "metadata": {
    "scrolled": false
   },
   "outputs": [],
   "source": [
    "fitted = np.ones((3, len(ns_seed)), dtype=bool)\n",
    "res = fit_llh_ratio(x0=[ns_seed, ra_seed, dec_seed], data=data,\n",
    "                    fitted=fitted, lnpriormap=lnpriormap, box=box)\n",
    "print(res.x[:nsrcs])\n",
    "print(res.x[nsrcs:2*nsrcs])\n",
    "print(res.x[-nsrcs:])\n",
    "print(res)"
   ]
  },
  {
   "cell_type": "markdown",
   "metadata": {},
   "source": [
    "Profile scan {nsj, raj, decj} around each source j's region keeping all other parameters {ns, ra, dec} at the best fit positions from the multifit.\n",
    "The scan should end up in the same minimum for {nsj, raj, decj} as the multi fit."
   ]
  },
  {
   "cell_type": "code",
   "execution_count": null,
   "metadata": {
    "scrolled": false
   },
   "outputs": [],
   "source": [
    "# %%time\n",
    "NSIDE_plot = 128\n",
    "\n",
    "for src_idx in tqdm(range(len(src_decs))[:]):\n",
    "    ra0_ = src_ras[src_idx]\n",
    "    dec0_ = src_decs[src_idx]\n",
    "    lnpriormap_ = (lnpriormap[0], [lnpriormap[1][src_idx]],\n",
    "                   [lnpriormap[2][src_idx]])\n",
    "    zoom = radii[src_idx]\n",
    "\n",
    "    # Scan complete LLH in local {ra, dec}, holding all {ns} and the other\n",
    "    # {ra, dec} fixed (profile scan around the minimum in {ra, dec})\n",
    "    nsmap, llhmap, gradmaps = sky_scan(NSIDE=NSIDE_plot, data=data,\n",
    "         lnpriormap=lnpriormap_,\n",
    "         ra0=ra0_, dec0=dec0_, radius=zoom, ns_fix=False, band=band)\n",
    "\n",
    "    # Plot the scanned map with prior\n",
    "    # Tune scale of non-scanned pixels\n",
    "    llhmap_ = np.ones_like(llhmap) * np.amin(llhmap)\n",
    "    idx = hp.query_disc(NSIDE_plot, *hp.ang2vec(*DecRaToThetaPhi(dec0_, ra0_)),\n",
    "                        radius=zoom)\n",
    "    llhmap_[idx] = llhmap[idx]\n",
    "    \n",
    "    # Plot range, zoomed to scan region\n",
    "    ra_rng=[ra0_ - 1.2 * zoom / np.cos(dec0_),\n",
    "            ra0_ + 1.2 * zoom / np.cos(dec0_)]\n",
    "    dec_rng=[dec0_ - 1.2 * zoom, dec0_ + 1.2 * zoom]\n",
    "    \n",
    "    # Make a temp plot to get prior contours directly from the prior map\n",
    "    _, _, prior_img = cartzoom(lnpriormap[0], ra_rng=ra_rng, dec_rng=dec_rng,\n",
    "                               figsize=(10,8))\n",
    "    plt.clf()\n",
    "    _ra_grid, _dec_grid, prior_z = reconstruct_cartzoom_data(\n",
    "        prior_img, ra_rng, dec_rng, smooth=4.)  \n",
    "    # Normalize for proper chi2 contours\n",
    "    prior_z -= np.amax(prior_z)\n",
    "    levels = scs.chi2.logsf(x=[1**2, 2**2, 3**2], df=2)[::-1]\n",
    "   \n",
    "    # Plot the scanned region\n",
    "    fig, ax, img = cartzoom(llhmap_,\n",
    "                            ra_rng=[ra0_ - 1.2 * zoom / np.cos(dec0_),\n",
    "                                    ra0_ + 1.2 * zoom / np.cos(dec0_)],\n",
    "                            dec_rng=[dec0_ - 1.2 * zoom, dec0_ + 1.2 * zoom],\n",
    "                            cmap=inferno_c, figsize=(10,8))\n",
    "    fig.colorbar(img, ax=ax)\n",
    "    \n",
    "    # Plot contours from prior map, to see that we scanned within nsigma\n",
    "    C = ax.contour(_ra_grid, _dec_grid, prior_z, levels, colors=\"w\",\n",
    "                   linestyles=[\":\", \"--\", \"-\"], label=\"1,2,3 sigma Prior\")\n",
    "    \n",
    "    # Plot prior start {ra, dec}\n",
    "    ax.plot(ra0_, dec0_, \"C7*\", ms=15, mew=2, mec=\"w\", label=\"Start pos.\")\n",
    "    # Plot high res scan best pix\n",
    "    scan_bf_idx = np.argmax(llhmap_)\n",
    "    dec_scan_, ra_scan_ = ThetaPhiToDecRa(*hp.pix2ang(NSIDE_plot, scan_bf_idx))\n",
    "    ax.plot(ra_scan_, dec_scan_, \"wo\", ms=15, mew=2, mec=\"C7\", label=\"Scan BF\")\n",
    "    # Plot found seed\n",
    "    ax.plot(ra_seed[src_idx], dec_seed[src_idx], \"C7P\", ms=10, mew=2, mec=\"w\",\n",
    "            label=\"Found seed\")\n",
    "    \n",
    "    # Fit the llh with ns, ra, dec and hope that we arrive at the scan BF\n",
    "    fit_res = fit_llh_ratio(x0=[ns_seed[src_idx], ra_seed[src_idx],\n",
    "                                dec_seed[src_idx]], fix_ra_dec=False,\n",
    "                            data=data, lnpriormap=lnpriormap_, band=band)\n",
    "    # Plot best fit\n",
    "    ax.plot(fit_res.x[1], fit_res.x[2], \"C3X\", ms=10, mew=2, mec=\"w\",\n",
    "            label=\"Fit\")\n",
    "\n",
    "    # Plot gradients for scan region\n",
    "    idx = hp.query_disc(NSIDE_plot, radius=zoom,\n",
    "                        vec=hp.ang2vec(*DecRaToThetaPhi(dec0_, ra0_))[0])\n",
    "    th, phi = hp.pix2ang(NSIDE_plot, idx)\n",
    "    print(\"src     : \", src_idx)\n",
    "    print(\"src ra  : \", np.rad2deg(ra0_))\n",
    "    print(\"min phi : \", np.rad2deg(np.amin(phi)))\n",
    "    print(\"max phi : \", np.rad2deg(np.amax(phi)))\n",
    "    dec, ra = ThetaPhiToDecRa(th, phi)\n",
    "    ax.quiver(ra, dec, gradmaps[:, 1][idx], gradmaps[:, 2][idx], color=\"w\")\n",
    "    # Wrap to handle cases at ra ~ 0, 360. Only for plotting the grads correctly\n",
    "    if ra0_ - zoom < 0:\n",
    "        ra_l = ra - 2 * np.pi\n",
    "        ax.quiver(ra_l, dec, gradmaps[:, 1][idx], gradmaps[:, 2][idx], color=\"w\")\n",
    "        ax.axvline(0., ls=\"--\", c=\"w\")\n",
    "    if ra0_ + zoom > 2. * np.pi:\n",
    "        ra_r = ra + 2. * np.pi\n",
    "        ax.quiver(ra_r, dec, gradmaps[:, 1][idx], gradmaps[:, 2][idx], color=\"w\")\n",
    "        ax.axvline(2. * np.pi, ls=\"--\", c=\"w\")\n",
    "\n",
    "    legend = ax.legend(loc=\"upper right\")\n",
    "    for legend_handle in legend.legendHandles:\n",
    "        legend_handle._legmarker.set_markersize(10)\n",
    "        \n",
    "    # Plot title\n",
    "    seed_bf = (ns_seed[src_idx], ra_seed[src_idx], dec_seed[src_idx])\n",
    "    scan_bf = (nsmap[scan_bf_idx], dec_scan_[0], ra_scan_[0])\n",
    "    ax.set_title(\"Seed: [{:.2f}, {:.2f}, {:.2f}]\".format(*seed_bf) +\n",
    "                 \"Scan: [{:.2f}, {:.2f}, {:.2f}]\".format(*scan_bf) + \n",
    "                 \"Fit: [{:.2f}, {:.2f}, {:.2f}]\".format(*fit_res.x))\n",
    "\n",
    "        \n",
    "    # TODO: Custom legend entries for gradients and prior contours\n",
    "        \n",
    "    plt.savefig(\"./scan_src={:d}_NSIDEseed_{:d}_NSIDEplot_{:d}.png\".format(\n",
    "        src_idx, NSIDE_seed, NSIDE_plot), dpi=300)\n",
    "    plt.show()"
   ]
  },
  {
   "cell_type": "markdown",
   "metadata": {
    "heading_collapsed": true
   },
   "source": [
    "## Test preselected fit vs fit with explicit box selection"
   ]
  },
  {
   "cell_type": "markdown",
   "metadata": {
    "hidden": true
   },
   "source": [
    "Using preselection doesn't work because the LLH doesn't compensate for the BG terms anymore.\n",
    "\n",
    "Also ns is the absolute number of expected signal eventsand if we have less background we expect more signal with so many events having SoB > 1."
   ]
  },
  {
   "cell_type": "code",
   "execution_count": null,
   "metadata": {
    "hidden": true
   },
   "outputs": [],
   "source": [
    "rnd_gen = np.random.RandomState(43374563)\n",
    "nbg = int(1e5)\n",
    "src_ras = np.deg2rad([40, 20, 359, 359.9, 1])\n",
    "src_decs = np.deg2rad([70, 6, -80, -35, 0])\n",
    "# nsig = np.arange(len(src_ras)) + 1\n",
    "nsig = np.zeros_like(src_ras, dtype=int)\n",
    "sig = {\"nsig\": nsig, \"ra\": src_ras, \"dec\": src_decs, \"sigma\": 0.}\n",
    "ras, decs, sigmas, idx = make_sample(nbg, sig=sig, rnd=rnd_gen)\n",
    "\n",
    "data = (ras, decs, sigmas)\n",
    "box = np.deg2rad(15)"
   ]
  },
  {
   "cell_type": "code",
   "execution_count": null,
   "metadata": {
    "hidden": true
   },
   "outputs": [],
   "source": [
    "# Use all events for comparison\n",
    "i = 0\n",
    "\n",
    "llh = []\n",
    "ns = np.linspace(0, 10)\n",
    "for nsi in ns:\n",
    "    params = [nsi, src_ras[i], src_decs[i]]\n",
    "    llh.append(llh_ratio(params, data, box=None)[0])\n",
    "    \n",
    "plt.plot(ns, llh)\n",
    "plt.axvline(0, ls=\"--\", c=\"C7\")\n",
    "plt.axhline(0, ls=\"--\", c=\"C7\")\n",
    "plt.show()"
   ]
  },
  {
   "cell_type": "code",
   "execution_count": null,
   "metadata": {
    "hidden": true
   },
   "outputs": [],
   "source": [
    "# Explicit box\n",
    "i = 0\n",
    "\n",
    "llh = []\n",
    "ns = np.linspace(0, 10)\n",
    "for nsi in ns:\n",
    "    params = [nsi, src_ras[i], src_decs[i]]\n",
    "    llh.append(llh_ratio(params, data, box=None)[0])\n",
    "    \n",
    "plt.plot(ns, llh)\n",
    "plt.axvline(0, ls=\"--\", c=\"C7\")\n",
    "plt.axhline(0, ls=\"--\", c=\"C7\")\n",
    "plt.show()"
   ]
  },
  {
   "cell_type": "code",
   "execution_count": null,
   "metadata": {
    "hidden": true
   },
   "outputs": [],
   "source": [
    "# Preselect and use no band\n",
    "i = 0\n",
    "_, data_i,_ = _select_events(params, data, box=box)\n",
    "\n",
    "llh = []\n",
    "ns = np.linspace(0, 10)\n",
    "for nsi in ns:\n",
    "    params = [nsi, src_ras[i], src_decs[i]]\n",
    "    llh.append(llh_ratio(params, data_i, box=None)[0])\n",
    "    \n",
    "plt.plot(ns, llh)\n",
    "plt.axvline(0, ls=\"--\", c=\"C7\")\n",
    "plt.axhline(0, ls=\"--\", c=\"C7\")\n",
    "plt.show()"
   ]
  },
  {
   "cell_type": "markdown",
   "metadata": {
    "heading_collapsed": true
   },
   "source": [
    "## Test ra periodic boundaries in llh and box mode"
   ]
  },
  {
   "cell_type": "code",
   "execution_count": null,
   "metadata": {
    "hidden": true
   },
   "outputs": [],
   "source": [
    "rnd_gen = np.random.RandomState(43374563)\n",
    "nbg = int(1e5)\n",
    "src_ras = np.deg2rad([40, 20, 359, 359.9, 1])\n",
    "src_decs = np.deg2rad([70, 6, -80, -35, 0])\n",
    "# nsig = np.arange(len(src_ras)) + 1\n",
    "nsig = np.zeros_like(src_ras, dtype=int)\n",
    "sig = {\"nsig\": nsig, \"ra\": src_ras, \"dec\": src_decs, \"sigma\": 0.}\n",
    "ras, decs, sigmas, idx = make_sample(nbg, sig=sig, rnd=rnd_gen)\n",
    "\n",
    "data = (ras, decs, sigmas)"
   ]
  },
  {
   "cell_type": "code",
   "execution_count": null,
   "metadata": {
    "hidden": true
   },
   "outputs": [],
   "source": [
    "%%time\n",
    "NSIDE_prior = 256  # Less resolution here, enough to test box mode\n",
    "src_ths, src_phis = DecRaToThetaPhi(src_decs, src_ras)\n",
    "sigma0 = np.deg2rad([1., 1., 0.7, 1., 0.5])\n",
    "    \n",
    "ln_priors = []\n",
    "ln_priors_dphi = []\n",
    "ln_priors_dth = []\n",
    "for i, (th0i, phi0i, sigma0i) in enumerate(zip(src_ths, src_phis, sigma0)):\n",
    "    print(u\"Making prior at: RA={:.2f}°, DEC={:.2f}°, SIGMA={:.3f}°\".format(\n",
    "        np.rad2deg(ThetaPhiToDecRa(th0i, phi0i)[1])[0], \n",
    "        np.rad2deg(ThetaPhiToDecRa(th0i, phi0i)[0])[0], np.rad2deg(sigma0i)))\n",
    "    prior = gaussian_on_a_sphere(mean_th=th0i, mean_phi=phi0i, \n",
    "                                 clip=5., NSIDE=NSIDE_prior, sigma=sigma0i)[0]\n",
    "    # Avoid taking the log of 0, use the smallest valid map number instead\n",
    "    prior[prior <= 0] = np.amin(prior[prior > 0])\n",
    "    ln_prior = np.log(prior)\n",
    "\n",
    "    # Make src_ras, src_decs more realistic by setting it to the map maximum\n",
    "    idx = np.argmax(ln_prior)\n",
    "    src_ths[i], src_phis[i] = hp.pix2ang(NSIDE_prior, idx)\n",
    "    src_decs[i], src_ras[i] = ThetaPhiToDecRa(src_ths[i], src_phis[i])\n",
    "    print(\"  New src pos at maximum of the prior map: \" +\n",
    "          \"RA={:.2f}°, DEC={:.2f}°\".format(*np.rad2deg((src_ras[i], src_decs[i]))))\n",
    "\n",
    "    # Get the log derivatives from the finite elements method\n",
    "    ln_prior_dphi, ln_prior_dth = map_der(ln_prior)\n",
    "    \n",
    "    ln_priors.append(ln_prior)\n",
    "    ln_priors_dphi.append(ln_prior_dphi)\n",
    "    ln_priors_dth.append(ln_prior_dth)\n",
    "    \n",
    "lnpriormap = (np.sum(ln_priors, axis=0), ln_priors_dth, ln_priors_dphi)"
   ]
  },
  {
   "cell_type": "code",
   "execution_count": null,
   "metadata": {
    "hidden": true
   },
   "outputs": [],
   "source": [
    "# Iterate through srcs\n",
    "i = 2\n",
    "lnpriormap_ = (lnpriormap[0], [lnpriormap[1][i]], [lnpriormap[2][i]])\n",
    "\n",
    "# For 20° it should pretty much equal the result with all events\n",
    "for box_i in [None, np.deg2rad(5), np.deg2rad(10), np.deg2rad(20)]:\n",
    "    print(box_i)\n",
    "    for shift in [-2*np.pi, 0., 2*np.pi, 4*np.pi]:\n",
    "        print(\"  Shift: \", shift / np.pi, \" pi\")\n",
    "        print(\"  \", llh_ratio([0.2, 2*np.pi - 0.005 + shift, 0.], data,\n",
    "                              lnpriormap=lnpriormap_, box=box_i))\n",
    "    print(\"--\")"
   ]
  },
  {
   "cell_type": "markdown",
   "metadata": {
    "heading_collapsed": true
   },
   "source": [
    "## Test scan seeding function"
   ]
  },
  {
   "cell_type": "code",
   "execution_count": null,
   "metadata": {
    "hidden": true
   },
   "outputs": [],
   "source": [
    "rnd_gen = np.random.RandomState(43374563)\n",
    "nbg = int(1e5)\n",
    "# src_ras = np.deg2rad([40, 20, 277, 300, 310])\n",
    "src_ras = np.deg2rad([40, 20, 359, 359.9, 1])\n",
    "src_decs = np.deg2rad([70, 6, -80, -35, 0])\n",
    "# nsig = np.arange(len(src_ras)) + 1\n",
    "nsig = np.zeros_like(src_ras, dtype=int)\n",
    "sig = {\"nsig\": nsig, \"ra\": src_ras, \"dec\": src_decs, \"sigma\": 0.}\n",
    "ras, decs, sigmas, idx = make_sample(nbg, sig=sig, rnd=rnd_gen)\n",
    "\n",
    "data = (ras, decs, sigmas)"
   ]
  },
  {
   "cell_type": "code",
   "execution_count": null,
   "metadata": {
    "hidden": true
   },
   "outputs": [],
   "source": [
    "%%time\n",
    "# Construct priors for visual comparison only (see note on top)\n",
    "NSIDE_prior = 512\n",
    "src_ths, src_phis = DecRaToThetaPhi(src_decs, src_ras)\n",
    "sigma0 = np.deg2rad([1., 1., 0.7, 1., 0.5])\n",
    "    \n",
    "ln_priors = []\n",
    "ln_priors_dphi = []\n",
    "ln_priors_dth = []\n",
    "for i, (th0i, phi0i, sigma0i) in enumerate(zip(src_ths, src_phis, sigma0)):\n",
    "    print(u\"Making prior at: RA={:.2f}°, DEC={:.2f}°, SIGMA={:.3f}°\".format(\n",
    "        np.rad2deg(ThetaPhiToDecRa(th0i, phi0i)[1])[0], \n",
    "        np.rad2deg(ThetaPhiToDecRa(th0i, phi0i)[0])[0], np.rad2deg(sigma0i)))\n",
    "    prior = gaussian_on_a_sphere(mean_th=th0i, mean_phi=phi0i, \n",
    "                                 clip=5., NSIDE=NSIDE_prior, sigma=sigma0i)[0]\n",
    "    # Avoid taking the log of 0, use the smallest valid map number instead\n",
    "    prior[prior <= 0] = np.amin(prior[prior > 0])\n",
    "    ln_prior = np.log(prior)\n",
    "\n",
    "    # Make src_ras, src_decs more realistic by setting it to the map maximum\n",
    "    idx = np.argmax(ln_prior)\n",
    "    src_ths[i], src_phis[i] = hp.pix2ang(NSIDE_prior, idx)\n",
    "    src_decs[i], src_ras[i] = ThetaPhiToDecRa(src_ths[i], src_phis[i])\n",
    "    print(\"  New src pos at maximum of the prior map: \" +\n",
    "          \"RA={:.2f}°, DEC={:.2f}°\".format(*np.rad2deg((src_ras[i], src_decs[i]))))\n",
    "\n",
    "    # Get the log derivatives from the finite elements method\n",
    "    ln_prior_dphi, ln_prior_dth = map_der(ln_prior)\n",
    "    \n",
    "    ln_priors.append(ln_prior)\n",
    "    ln_priors_dphi.append(ln_prior_dphi)\n",
    "    ln_priors_dth.append(ln_prior_dth)\n",
    "    \n",
    "lnpriormap = (np.sum(ln_priors, axis=0), ln_priors_dth, ln_priors_dphi)"
   ]
  },
  {
   "cell_type": "markdown",
   "metadata": {
    "hidden": true
   },
   "source": [
    "Get seeds from local scans"
   ]
  },
  {
   "cell_type": "code",
   "execution_count": null,
   "metadata": {
    "hidden": true
   },
   "outputs": [],
   "source": [
    "%%time\n",
    "NSIDE_seed = 64\n",
    "radii = 3. * sigma0\n",
    "band = np.deg2rad(15)\n",
    "\n",
    "seeds = get_seed_scan(src_ras, src_decs, radii, NSIDE_seed, data,\n",
    "                      lnpriormap=lnpriormap, band=band)\n",
    "ns_seed, ra_seed, dec_seed = seeds\n",
    "[print(si) for si in seeds]"
   ]
  },
  {
   "cell_type": "markdown",
   "metadata": {
    "hidden": true
   },
   "source": [
    "Scan whole region again to verify a reasonable pixel per src is found as a local seed."
   ]
  },
  {
   "cell_type": "code",
   "execution_count": null,
   "metadata": {
    "hidden": true,
    "scrolled": false
   },
   "outputs": [],
   "source": [
    "# %%time\n",
    "NSIDE_plot = 512\n",
    "\n",
    "for src_idx in tqdm(range(len(src_decs))[:]):\n",
    "    ra0_ = src_ras[src_idx]\n",
    "    dec0_ = src_decs[src_idx]\n",
    "    lnpriormap_ = (lnpriormap[0], [lnpriormap[1][src_idx]],\n",
    "                   [lnpriormap[2][src_idx]])\n",
    "    zoom = radii[src_idx]\n",
    "\n",
    "    # Scan with prior\n",
    "    nsmap, llhmap, gradmaps = sky_scan(NSIDE=NSIDE_plot, data=data,\n",
    "         lnpriormap=lnpriormap_,\n",
    "         ra0=ra0_, dec0=dec0_, radius=zoom, ns_fix=False, band=band)\n",
    "\n",
    "    # Plot the scanned map with prior\n",
    "    # Tune scale of non-scanned pixels\n",
    "    llhmap_ = np.ones_like(llhmap) * np.amin(llhmap)\n",
    "    idx = hp.query_disc(NSIDE_plot, *hp.ang2vec(*DecRaToThetaPhi(dec0_, ra0_)),\n",
    "                        radius=zoom)\n",
    "    llhmap_[idx] = llhmap[idx]\n",
    "    \n",
    "    # Plot range, zoomed to scan region\n",
    "    ra_rng=[ra0_ - 1.2 * zoom / np.cos(dec0_),\n",
    "            ra0_ + 1.2 * zoom / np.cos(dec0_)]\n",
    "    dec_rng=[dec0_ - 1.2 * zoom, dec0_ + 1.2 * zoom]\n",
    "    \n",
    "    # Make a temp plot to get prior contours directly from the prior map\n",
    "    _, _, prior_img = cartzoom(lnpriormap[0], ra_rng=ra_rng, dec_rng=dec_rng,\n",
    "                               figsize=(10,8))\n",
    "    plt.clf()\n",
    "    _ra_grid, _dec_grid, prior_z = reconstruct_cartzoom_data(\n",
    "        prior_img, ra_rng, dec_rng, smooth=4.)  \n",
    "    # Normalize for proper chi2 contours\n",
    "    prior_z -= np.amax(prior_z)\n",
    "    levels = scs.chi2.logsf(x=[1**2, 2**2, 3**2], df=2)[::-1]\n",
    "   \n",
    "    # Plot the scanned region\n",
    "    fig, ax, img = cartzoom(llhmap_,\n",
    "                            ra_rng=[ra0_ - 1.2 * zoom / np.cos(dec0_),\n",
    "                                    ra0_ + 1.2 * zoom / np.cos(dec0_)],\n",
    "                            dec_rng=[dec0_ - 1.2 * zoom, dec0_ + 1.2 * zoom],\n",
    "                            cmap=inferno_c, figsize=(10,8))\n",
    "    fig.colorbar(img, ax=ax)\n",
    "    \n",
    "    # Plot contours from prior map, to see that we scanned within nsigma\n",
    "    C = ax.contour(_ra_grid, _dec_grid, prior_z, levels, colors=\"w\",\n",
    "                   linestyles=[\":\", \"--\", \"-\"], label=\"1,2,3 sigma Prior\")\n",
    "    \n",
    "    # Plot prior start {ra, dec}\n",
    "    ax.plot(ra0_, dec0_, \"C7*\", ms=15, mew=2, mec=\"w\", label=\"Start pos.\")\n",
    "    # Plot high res scan best pix\n",
    "    scan_bf_idx = np.argmax(llhmap_)\n",
    "    dec_scan_, ra_scan_ = ThetaPhiToDecRa(*hp.pix2ang(NSIDE_plot, scan_bf_idx))\n",
    "    ax.plot(ra_scan_, dec_scan_, \"wo\", ms=15, mew=2, mec=\"C7\", label=\"Scan BF\")\n",
    "    # Plot found seed\n",
    "    ax.plot(ra_seed[src_idx], dec_seed[src_idx], \"C7P\", ms=10, mew=2, mec=\"w\",\n",
    "            label=\"Found seed\")\n",
    "    \n",
    "    # Fit the llh with ns, ra, dec and hope that we arrive at the scan BF\n",
    "    fit_res = fit_llh_ratio(x0=[ns_seed[src_idx], ra_seed[src_idx],\n",
    "                                dec_seed[src_idx]], fix_ra_dec=False,\n",
    "                            data=data, lnpriormap=lnpriormap_, band=band)\n",
    "    # Plot best fit\n",
    "    ax.plot(fit_res.x[1], fit_res.x[2], \"C3X\", ms=10, mew=2, mec=\"w\",\n",
    "            label=\"Fit\")\n",
    "\n",
    "    # Plot gradients for scan region\n",
    "    idx = hp.query_disc(NSIDE_plot, radius=zoom,\n",
    "                        vec=hp.ang2vec(*DecRaToThetaPhi(dec0_, ra0_))[0])\n",
    "    th, phi = hp.pix2ang(NSIDE_plot, idx)\n",
    "    print(\"src     : \", src_idx)\n",
    "    print(\"src ra  : \", np.rad2deg(ra0_))\n",
    "    print(\"min phi : \", np.rad2deg(np.amin(phi)))\n",
    "    print(\"max phi : \", np.rad2deg(np.amax(phi)))\n",
    "    dec, ra = ThetaPhiToDecRa(th, phi)\n",
    "    ax.quiver(ra, dec, gradmaps[:, 1][idx], gradmaps[:, 2][idx], color=\"w\")\n",
    "    # Wrap to handle cases at ra ~ 0, 360. Only for plotting the grads correctly\n",
    "    if ra0_ - zoom < 0:\n",
    "        ra_l = ra - 2 * np.pi\n",
    "        ax.quiver(ra_l, dec, gradmaps[:, 1][idx], gradmaps[:, 2][idx], color=\"w\")\n",
    "        ax.axvline(0., ls=\"--\", c=\"w\")\n",
    "    if ra0_ + zoom > 2. * np.pi:\n",
    "        ra_r = ra + 2. * np.pi\n",
    "        ax.quiver(ra_r, dec, gradmaps[:, 1][idx], gradmaps[:, 2][idx], color=\"w\")\n",
    "        ax.axvline(2. * np.pi, ls=\"--\", c=\"w\")\n",
    "\n",
    "    legend = ax.legend(loc=\"upper right\")\n",
    "    for legend_handle in legend.legendHandles:\n",
    "        legend_handle._legmarker.set_markersize(10)\n",
    "        \n",
    "    # Plot title\n",
    "    seed_bf = (ns_seed[src_idx], ra_seed[src_idx], dec_seed[src_idx])\n",
    "    scan_bf = (nsmap[scan_bf_idx], dec_scan_[0], ra_scan_[0])\n",
    "    ax.set_title(\"Seed: [{:.2f}, {:.2f}, {:.2f}]\".format(*seed_bf) +\n",
    "                 \"Scan: [{:.2f}, {:.2f}, {:.2f}]\".format(*scan_bf) + \n",
    "                 \"Fit: [{:.2f}, {:.2f}, {:.2f}]\".format(*fit_res.x))\n",
    "\n",
    "        \n",
    "    # TODO: Custom legend entries for gradients and prior contours\n",
    "        \n",
    "    plt.savefig(\"./scan_src={:d}_NSIDEseed_{:d}_NSIDEplot_{:d}.png\".format(\n",
    "        src_idx, NSIDE_seed, NSIDE_plot), dpi=300)\n",
    "    plt.show()"
   ]
  },
  {
   "cell_type": "markdown",
   "metadata": {
    "heading_collapsed": true
   },
   "source": [
    "## Scanning to test the gradients per source location"
   ]
  },
  {
   "cell_type": "code",
   "execution_count": null,
   "metadata": {
    "hidden": true
   },
   "outputs": [],
   "source": [
    "rnd_gen = np.random.RandomState(43374563)\n",
    "nbg = int(1e5)\n",
    "ra0 = np.deg2rad([40, 20, 277, 300, 310])\n",
    "dec0 = np.deg2rad([70, 6, -80, -35, 0])\n",
    "nsig = np.arange(len(ra0)) + 1\n",
    "sig = {\"nsig\": nsig, \"ra\": ra0, \"dec\": dec0, \"sigma\": 0.}\n",
    "ras, decs, sigmas, idx = make_sample(nbg, sig=sig, rnd=rnd_gen)\n",
    "\n",
    "data = (ras, decs, sigmas)"
   ]
  },
  {
   "cell_type": "code",
   "execution_count": null,
   "metadata": {
    "hidden": true
   },
   "outputs": [],
   "source": [
    "# Used to make many plots, when in need to recreate them ...\n",
    "# np.save(arr=data, file=\"./pass2data.npy\")"
   ]
  },
  {
   "cell_type": "code",
   "execution_count": null,
   "metadata": {
    "hidden": true
   },
   "outputs": [],
   "source": [
    "%%time\n",
    "# Construct priors for visula comparison only (see note on top)\n",
    "NSIDE = 512\n",
    "th0, phi0 = DecRaToThetaPhi(dec0, ra0)\n",
    "sigma0 = np.deg2rad([1., 1., 0.7, 1., 0.5])\n",
    "    \n",
    "ln_priors = []\n",
    "ln_priors_dphi = []\n",
    "ln_priors_dth = []\n",
    "for i, (th0i, phi0i, sigma0i) in enumerate(zip(th0, phi0, sigma0)):\n",
    "    print(u\"Making prior at: PHI={:.2f}, DEC={:.2f}, SIGMA={:.3f}\".format(\n",
    "        phi0i, th0i, sigma0i))\n",
    "    prior = gaussian_on_a_sphere(mean_th=th0i, mean_phi=phi0i, \n",
    "                                 clip=5., NSIDE=NSIDE, sigma=sigma0i)[0]\n",
    "    # Avoid taking the log of 0, use the smallest valid map number instead\n",
    "    prior[prior <= 0] = np.amin(prior[prior > 0])\n",
    "    ln_prior = np.log(prior)\n",
    "\n",
    "    # Make ra0, dec0 more realistic by setting it to the map maximum as in HESE\n",
    "    idx = np.argmax(ln_prior)\n",
    "    th0[i], phi0[i] = hp.pix2ang(NSIDE, idx)\n",
    "    dec0[i], ra0[i] = ThetaPhiToDecRa(th0[i], phi0[i])\n",
    "\n",
    "    # Get the log derivatives from the finite elements method\n",
    "    ln_prior_dphi, ln_prior_dth = map_der(ln_prior)\n",
    "    \n",
    "    ln_priors.append(ln_prior)\n",
    "    ln_priors_dphi.append(ln_prior_dphi)\n",
    "    ln_priors_dth.append(ln_prior_dth)\n",
    "    \n",
    "lnpriormap = (np.sum(ln_priors, axis=0), ln_priors_dth, ln_priors_dphi)"
   ]
  },
  {
   "cell_type": "markdown",
   "metadata": {
    "hidden": true
   },
   "source": [
    "Sanning with fixed ns steps"
   ]
  },
  {
   "cell_type": "code",
   "execution_count": null,
   "metadata": {
    "hidden": true,
    "scrolled": false
   },
   "outputs": [],
   "source": [
    "# %%time\n",
    "NSIDE = 128\n",
    "zoom = np.deg2rad(2)\n",
    "ns_fixs = [0.5, 1., 2.5, 5., 7.5, 10., 15.]\n",
    "\n",
    "for src_idx in range(len(dec0))[:1]:\n",
    "    ra0_ = ra0[src_idx]\n",
    "    dec0_ = dec0[src_idx]\n",
    "\n",
    "    for ns_fix in tqdm(ns_fixs[:2]):\n",
    "        # Scan with prior\n",
    "        nsmap, llhmap, gradmaps = sky_scan(NSIDE=NSIDE, data=data,\n",
    "             lnpriormap=(lnpriormap[0],\n",
    "                         [lnpriormap[1][src_idx]],\n",
    "                         [lnpriormap[2][src_idx]]),\n",
    "             ra0=ra0_, dec0=dec0_, radius=zoom, ns_fix=ns_fix)\n",
    "\n",
    "        # Plot the scanned map with prior\n",
    "        # Tune scale of non-scanned pixels\n",
    "        llhmap_ = np.ones_like(llhmap) * np.amin(llhmap)\n",
    "        idx = hp.query_disc(NSIDE, *hp.ang2vec(*DecRaToThetaPhi(dec0_, ra0_)),\n",
    "                            radius=zoom)\n",
    "        llhmap_[idx] = llhmap[idx]\n",
    "\n",
    "        fig, ax, img = cartzoom(llhmap_,\n",
    "                                ra_rng=[ra0_ - 1.2 * zoom / np.cos(dec0_),\n",
    "                                        ra0_ + 1.2 * zoom / np.cos(dec0_)],\n",
    "                                dec_rng=[dec0_ - 1.2 * zoom, dec0_ + 1.2 * zoom],\n",
    "                                cmap=inferno_c, figsize=(10,8))\n",
    "        fig.colorbar(img, ax=ax)\n",
    "        ax.plot(ra0_, dec0_, \"k*\", ms=15, mew=2, mec=\"w\")\n",
    "\n",
    "        # Plot gradients for scan region\n",
    "        idx = hp.query_disc(NSIDE, radius=zoom,\n",
    "                            vec=hp.ang2vec(*DecRaToThetaPhi(dec0_, ra0_))[0])\n",
    "        th, phi = hp.pix2ang(NSIDE, idx)\n",
    "        dec, ra = ThetaPhiToDecRa(th, phi)\n",
    "        ax.quiver(ra, dec, gradmaps[:, 1][idx], gradmaps[:, 2][idx], color=\"w\")\n",
    "\n",
    "        plt.savefig(\"./scan_src={:d}_nsfix={:.2f}_prior.png\".format(src_idx, ns_fix),\n",
    "                    dpi=300)\n",
    "        plt.show()\n",
    "        \n",
    "        \n",
    "        # Scan w/o prior            \n",
    "        nsmap_np, llhmap_np, gradmaps_np = sky_scan(NSIDE=NSIDE, data=data,\n",
    "                 lnpriormap=None,\n",
    "                 ra0=ra0_, dec0=dec0_, radius=zoom, ns_fix=ns_fix)\n",
    "\n",
    "        # Plot the scanned map without prior\n",
    "        # Tune scale of non-scanned pixels\n",
    "        llhmap_ = np.ones_like(llhmap_np) * np.amin(llhmap_np)\n",
    "        idx = hp.query_disc(NSIDE, *hp.ang2vec(*DecRaToThetaPhi(dec0_, ra0_)),\n",
    "                            radius=zoom)\n",
    "        llhmap_[idx] = llhmap_np[idx]\n",
    "\n",
    "        fig, ax, img = cartzoom(llhmap_,\n",
    "                                ra_rng=[ra0_ - 1.2 * zoom / np.cos(dec0_),\n",
    "                                        ra0_ + 1.2 * zoom / np.cos(dec0_)],\n",
    "                                dec_rng=[dec0_ - 1.2 * zoom, dec0_ + 1.2 * zoom],\n",
    "                                cmap=inferno_c, figsize=(10,8))\n",
    "        fig.colorbar(img, ax=ax)\n",
    "        ax.plot(ra0_, dec0_, \"k*\", ms=15, mew=2, mec=\"w\")\n",
    "\n",
    "        # Plot gradients for scan region\n",
    "        idx = hp.query_disc(NSIDE, radius=zoom,\n",
    "                            vec=hp.ang2vec(*DecRaToThetaPhi(dec0_, ra0_))[0])\n",
    "        th, phi = hp.pix2ang(NSIDE, idx)\n",
    "        dec, ra = ThetaPhiToDecRa(th, phi)\n",
    "        ax.quiver(ra, dec, gradmaps_np[:, 1][idx], gradmaps_np[:, 2][idx], color=\"w\")\n",
    "\n",
    "        plt.savefig(\"./scan_src={:d}_nsfix={:.2f}_noprior.png\".format(src_idx, ns_fix),\n",
    "                    dpi=300)\n",
    "        plt.show()"
   ]
  },
  {
   "cell_type": "markdown",
   "metadata": {
    "hidden": true
   },
   "source": [
    "Sanning with profile fitting"
   ]
  },
  {
   "cell_type": "code",
   "execution_count": null,
   "metadata": {
    "hidden": true,
    "scrolled": false
   },
   "outputs": [],
   "source": [
    "%%time\n",
    "NSIDE = 64\n",
    "band = np.deg2rad(15)\n",
    "\n",
    "for src_idx in tqdm(range(len(dec0))[:]):\n",
    "    ra0_ = ra0[src_idx]\n",
    "    dec0_ = dec0[src_idx]\n",
    "    zoom = 3. * sigma0[src_idx]\n",
    "\n",
    "    # Scan with prior\n",
    "    nsmap, llhmap, gradmaps = sky_scan(NSIDE=NSIDE, data=data,\n",
    "         lnpriormap=(lnpriormap[0],\n",
    "                     [lnpriormap[1][src_idx]],\n",
    "                     [lnpriormap[2][src_idx]]),\n",
    "         ra0=ra0_, dec0=dec0_, radius=zoom, ns_fix=False, band=band)\n",
    "\n",
    "    # Plot the scanned map with prior\n",
    "    # Tune scale of non-scanned pixels\n",
    "    llhmap_ = np.ones_like(llhmap) * np.amin(llhmap)\n",
    "    idx = hp.query_disc(NSIDE, *hp.ang2vec(*DecRaToThetaPhi(dec0_, ra0_)),\n",
    "                        radius=zoom)\n",
    "    llhmap_[idx] = llhmap[idx]\n",
    "\n",
    "    fig, ax, img = cartzoom(llhmap_,\n",
    "                            ra_rng=[ra0_ - 1.2 * zoom / np.cos(dec0_),\n",
    "                                    ra0_ + 1.2 * zoom / np.cos(dec0_)],\n",
    "                            dec_rng=[dec0_ - 1.2 * zoom, dec0_ + 1.2 * zoom],\n",
    "                            cmap=inferno_c, figsize=(10,8))\n",
    "    fig.colorbar(img, ax=ax)\n",
    "    ax.plot(ra0_, dec0_, \"k*\", ms=15, mew=2, mec=\"w\")\n",
    "\n",
    "    # Plot gradients for scan region\n",
    "    idx = hp.query_disc(NSIDE, radius=zoom,\n",
    "                        vec=hp.ang2vec(*DecRaToThetaPhi(dec0_, ra0_))[0])\n",
    "    th, phi = hp.pix2ang(NSIDE, idx)\n",
    "    dec, ra = ThetaPhiToDecRa(th, phi)\n",
    "    ax.quiver(ra, dec, gradmaps[:, 1][idx], gradmaps[:, 2][idx], color=\"w\")\n",
    "\n",
    "    plt.savefig(\"./scan_src={:d}_nsfix={:.2f}_prior.png\".format(src_idx, ns_fix),\n",
    "                dpi=300)\n",
    "    plt.show()\n",
    "\n",
    "\n",
    "    # Scan w/o prior            \n",
    "    nsmap_np, llhmap_np, gradmaps_np = sky_scan(NSIDE=NSIDE, data=data,\n",
    "             lnpriormap=None,\n",
    "             ra0=ra0_, dec0=dec0_, radius=zoom, ns_fix=False, band=band)\n",
    "\n",
    "    # Plot the scanned map without prior\n",
    "    # Tune scale of non-scanned pixels\n",
    "    llhmap_ = np.ones_like(llhmap_np) * np.amin(llhmap_np)\n",
    "    idx = hp.query_disc(NSIDE, *hp.ang2vec(*DecRaToThetaPhi(dec0_, ra0_)),\n",
    "                        radius=zoom)\n",
    "    llhmap_[idx] = llhmap_np[idx]\n",
    "\n",
    "    fig, ax, img = cartzoom(llhmap_,\n",
    "                            ra_rng=[ra0_ - 1.2 * zoom / np.cos(dec0_),\n",
    "                                    ra0_ + 1.2 * zoom / np.cos(dec0_)],\n",
    "                            dec_rng=[dec0_ - 1.2 * zoom, dec0_ + 1.2 * zoom],\n",
    "                            cmap=inferno_c, figsize=(10,8))\n",
    "    fig.colorbar(img, ax=ax)\n",
    "    ax.plot(ra0_, dec0_, \"k*\", ms=15, mew=2, mec=\"w\")\n",
    "\n",
    "    # Plot gradients for scan region\n",
    "    idx = hp.query_disc(NSIDE, radius=zoom,\n",
    "                        vec=hp.ang2vec(*DecRaToThetaPhi(dec0_, ra0_))[0])\n",
    "    th, phi = hp.pix2ang(NSIDE, idx)\n",
    "    dec, ra = ThetaPhiToDecRa(th, phi)\n",
    "    ax.quiver(ra, dec, gradmaps_np[:, 1][idx], gradmaps_np[:, 2][idx], color=\"w\")\n",
    "\n",
    "    plt.savefig(\"./scan_src={:d}_nsfix={:.2f}_noprior.png\".format(src_idx, ns_fix),\n",
    "                dpi=300)\n",
    "    plt.show()"
   ]
  },
  {
   "cell_type": "code",
   "execution_count": null,
   "metadata": {
    "hidden": true
   },
   "outputs": [],
   "source": [
    "# Scan ns to check correct scales in ra, dec scan\n",
    "src_idx = 0\n",
    "lnpriormap_ =(lnpriormap[0], [lnpriormap[1][src_idx]], [lnpriormap[2][src_idx]])\n",
    "lnpriormap_ = None\n",
    "\n",
    "x0 = [0., ra0[src_idx], dec0[src_idx]]\n",
    "\n",
    "ns_ = np.linspace(0, 5, 100)\n",
    "TS = []\n",
    "ns_grad = []\n",
    "for nsi in ns_:\n",
    "    x0[0] = nsi\n",
    "    TSi, gradi = llh_ratio(params=x0, data=data_i, lnpriormap=lnpriormap_,\n",
    "                           band=np.deg2rad(15))\n",
    "    TS.append(TSi)\n",
    "    ns_grad.append(gradi[0])"
   ]
  },
  {
   "cell_type": "code",
   "execution_count": null,
   "metadata": {
    "hidden": true
   },
   "outputs": [],
   "source": [
    "plt.plot(ns_, TS)\n",
    "plt.plot(ns_, ns_grad)\n",
    "mids = .5 * (ns_[:-1] + ns_[1:])\n",
    "plt.plot(mids, np.diff(TS)/np.diff(ns_), ls=\"--\", c=\"k\")\n",
    "\n",
    "plt.axhline(0, c=\"C7\")\n",
    "plt.axvline(0, c=\"C7\")\n",
    "\n",
    "plt.show()"
   ]
  },
  {
   "cell_type": "markdown",
   "metadata": {
    "heading_collapsed": true
   },
   "source": [
    "## Test band selection mode"
   ]
  },
  {
   "cell_type": "markdown",
   "metadata": {
    "hidden": true
   },
   "source": [
    "Note: using naive box mode close to the poles is a very bad idea, because events are contributing for almost all RA values, because of the small solid angle.\n",
    "\n",
    "Use band mode to be safe or a true circle mode, selecting within a circle respecting the behaviour on a sphere.\n",
    "Circle mode would need to calc all angular distances, so we wouldn't get a computational advantage."
   ]
  },
  {
   "cell_type": "code",
   "execution_count": null,
   "metadata": {
    "hidden": true
   },
   "outputs": [],
   "source": [
    "rnd_gen = np.random.RandomState(43374563)\n",
    "nbg = int(1e5)\n",
    "nsig = 5\n",
    "src_ras = np.deg2rad([40., 20., 359., 359.9, 1.])\n",
    "src_decs = np.deg2rad([10., -30., -81., 85., 30.])\n",
    "sig = {\"nsig\": nsig, \"ra\": src_ras, \"dec\": src_decs, \"sigma\": 0.}\n",
    "ras, decs, sigmas, idx = make_sample(nbg, sig=sig, rnd=rnd_gen)"
   ]
  },
  {
   "cell_type": "code",
   "execution_count": null,
   "metadata": {
    "hidden": true
   },
   "outputs": [],
   "source": [
    "ns0 = [3., 6., 3.2, 5., 2.]\n",
    "x = (ns0, src_ras, src_decs)\n",
    "box = len(ns0) * [np.deg2rad(15)]\n",
    "data = (ras, decs, sigmas)\n",
    "\n",
    "print(\"All\")\n",
    "print(llh_ratio(x, data, box=None))\n",
    "\n",
    "print(\"\")\n",
    "print(\"Band\")\n",
    "print(llh_ratio(x, data, box=box))"
   ]
  },
  {
   "cell_type": "code",
   "execution_count": null,
   "metadata": {
    "hidden": true,
    "scrolled": false
   },
   "outputs": [],
   "source": [
    "# Preselect events and calc SoBs\n",
    "_, (ras_, decs_, sigmas_), _ = _select_events(\n",
    "    (len(src_ras) * [-1], src_ras, src_decs), data=data, box=box)\n",
    "pdf_s, grad_s = pdf_sig(src_decs=src_decs, src_ras=src_ras,\n",
    "                        ras=ras_, decs=decs_, sigmas=sigmas_)\n",
    "pdf_b, grad_b = pdf_bg(src_decs=src_decs, decs=decs_)\n",
    "pdf_sb, grad_sb = pdf_sob(src_decs=src_decs, src_ras=src_ras,\n",
    "                          ras=ras_, decs=decs_, sigmas=sigmas_)\n",
    "assert np.allclose(pdf_sb, pdf_s / pdf_b)\n",
    "\n",
    "for src_idx in range(len(src_decs)):\n",
    "    pdf_sbi = pdf_sb[src_idx]\n",
    "    src_rai, src_deci = src_ras[src_idx], src_decs[src_idx]\n",
    "\n",
    "    # Only show SoB > 1 in colors\n",
    "    m = (pdf_sbi > 1.)\n",
    "    # Scale sigmas for better visibility\n",
    "    scale = 20\n",
    "\n",
    "    fig, ax = plt.subplots(1, 1, figsize=(7, 6))\n",
    "    \n",
    "    # Plot selection box - Code copied from _selecrt_events function\n",
    "    boxi = box[src_idx] / 2.\n",
    "    top_height = np.abs(src_deci) + boxi\n",
    "    if top_height > np.deg2rad(89):\n",
    "        box_width = np.pi\n",
    "    else:\n",
    "        box_width = boxi / np.cos(top_height)\n",
    "    \n",
    "    box_ras = [src_rai - box_width, src_rai - box_width,\n",
    "                src_rai + box_width, src_rai + box_width,\n",
    "                src_rai - box_width]\n",
    "    box_decs = [src_deci - boxi, src_deci + boxi,\n",
    "                 src_deci + boxi, src_deci - boxi,\n",
    "                 src_deci - boxi]\n",
    "    ax.fill_between(box_ras, box_decs, alpha=.1, color=\"C3\")\n",
    "    ax.plot(box_ras, box_decs, alpha=.5, color=\"C3\")\n",
    "\n",
    "    # Boundaries\n",
    "    ral = np.amin(box_ras) - np.deg2rad(2)\n",
    "    rar = np.amax(box_ras) + np.deg2rad(2)\n",
    "    decl = np.amin(box_decs) - np.deg2rad(2)\n",
    "    dech = np.amax(box_decs) + np.deg2rad(2)\n",
    "\n",
    "    # Events\n",
    "    ax.scatter(ras_[~m], decs_[~m], s=scale * np.rad2deg(sigmas_[~m]), c=\"C7\",\n",
    "               alpha=0.6)\n",
    "    ax.scatter(ras_[m], decs_[m], s=scale * np.rad2deg(sigmas_[m]),\n",
    "               c=np.log10(pdf_sbi[m]))\n",
    "    \n",
    "    # Repeat to wrap\n",
    "    if ral < 0:\n",
    "        ax.axvline(0, ls=\"--\", c=\"C7\")\n",
    "        ras_neg = ras_ - 2 * np.pi\n",
    "        ax.scatter(ras_neg[~m], decs_[~m], s=scale * np.rad2deg(sigmas_[~m]),\n",
    "                   c=\"C7\", alpha=0.6)\n",
    "        ax.scatter(ras_neg[m], decs_[m], s=scale * np.rad2deg(sigmas_[m]),\n",
    "                   c=np.log10(pdf_sbi[m]))\n",
    "    elif rar > 2. * np.pi:\n",
    "        ax.axvline(2. * np.pi, ls=\"--\", c=\"C7\")\n",
    "        ras_pos = ras_ + 2 * np.pi\n",
    "        ax.scatter(ras_pos[~m], decs_[~m], s=scale * np.rad2deg(sigmas_[~m]),\n",
    "                   c=\"C7\", alpha=0.6)\n",
    "        ax.scatter(ras_pos[m], decs_[m], s=scale * np.rad2deg(sigmas_[m]),\n",
    "                   c=np.log10(pdf_sbi[m]))\n",
    "        \n",
    "    # Source center\n",
    "    ax.plot(src_rai, src_deci, \"r*\", ms=10)\n",
    "\n",
    "    ax.set_xlim(ral, rar)\n",
    "    ax.set_ylim(decl, dech)\n",
    "\n",
    "    make_astro_xaxis(ax)\n",
    "\n",
    "    plt.show()"
   ]
  },
  {
   "cell_type": "markdown",
   "metadata": {
    "heading_collapsed": true
   },
   "source": [
    "## Show source variation for multiple sources and priors"
   ]
  },
  {
   "cell_type": "markdown",
   "metadata": {
    "hidden": true
   },
   "source": [
    "Respect source variation according to a gaussian prior for signal injection.\n",
    "\n",
    "Here the injection draws from a gaussian, in reality we would draw from the healpy prior map instead.\n",
    "Here it doesn't make a difference."
   ]
  },
  {
   "cell_type": "code",
   "execution_count": null,
   "metadata": {
    "hidden": true
   },
   "outputs": [],
   "source": [
    "%%time\n",
    "# Construct priors for visula comparison only (see note on top)\n",
    "NSIDE = 256\n",
    "ra0 = np.deg2rad([120, 150, 300])\n",
    "dec0 = np.deg2rad([-10, 20, 25])  # True src positions\n",
    "th0, phi0 = DecRaToThetaPhi(dec0, ra0)\n",
    "sigma0 = np.deg2rad([0.5, 1., 2.])\n",
    "    \n",
    "ln_priors = []\n",
    "ln_priors_dphi = []\n",
    "ln_priors_dth = []\n",
    "for i, (th0i, phi0i, sigma0i) in enumerate(zip(th0, phi0, sigma0)):\n",
    "    print(u\"Making prior at: PHI={:.2f}, DEC={:.2f}, SIGMA={:.3f}\".format(\n",
    "        phi0i, th0i, sigma0i))\n",
    "    prior = gaussian_on_a_sphere(mean_th=th0i, mean_phi=phi0i, \n",
    "                                 clip=5., NSIDE=NSIDE, sigma=sigma0i)[0]\n",
    "    # Avoid taking the log of 0, use the smallest valid map number instead\n",
    "    prior[prior <= 0] = np.amin(prior[prior > 0])\n",
    "    ln_prior = np.log(prior)\n",
    "\n",
    "    # Make ra0, dec0 more realistic by setting it to the map maximum as in HESE\n",
    "    idx = np.argmax(ln_prior)\n",
    "    th0[i], phi0[i] = hp.pix2ang(NSIDE, idx)\n",
    "    dec0[i], ra0[i] = ThetaPhiToDecRa(th0[i], phi0[i])\n",
    "\n",
    "    # Get the log derivatives from the finite elements method\n",
    "    ln_prior_dphi, ln_prior_dth = map_der(ln_prior)\n",
    "    \n",
    "    ln_priors.append(ln_prior)\n",
    "    ln_priors_dphi.append(ln_prior_dphi)\n",
    "    ln_priors_dth.append(ln_prior_dth)"
   ]
  },
  {
   "cell_type": "code",
   "execution_count": null,
   "metadata": {
    "hidden": true,
    "scrolled": false
   },
   "outputs": [],
   "source": [
    "rnd_gen = np.random.RandomState(238823442)\n",
    "\n",
    "zoom = np.deg2rad(5)\n",
    "sig_scale = 5\n",
    "\n",
    "for i in range(10):\n",
    "    # Create a test sample\n",
    "    nbg = int(1e5)\n",
    "    sig = {\"nsig\": 100, \"ra\": ra0, \"dec\": dec0, \"sigma\": sigma0}\n",
    "\n",
    "    ras, decs, sigmas, ev_idx = make_sample(nbg=nbg, sig=sig, rnd=rnd_gen)\n",
    "\n",
    "    data = (ras, decs, sigmas)\n",
    "    lnpriormap = [(lnp, lnp_dth, lnp_dphi) for lnp, lnp_dth, lnp_dphi in\n",
    "                  zip(ln_priors, ln_priors_dth, ln_priors_dphi)]\n",
    "\n",
    "    # All srcs on display\n",
    "    fig, axs = plt.subplots(1, 3, figsize=(18, 6))\n",
    "    for src_idx, axi in enumerate(axs):\n",
    "        ra0_ , dec0_ = ra0[src_idx], dec0[src_idx]\n",
    "        _, _, img = cartzoom_radius(ln_priors[src_idx], r=zoom, ax=axi,\n",
    "                                    center=[ra0_, dec0_], cmap=\"gray\")\n",
    "        fig.colorbar(img, ax=ax)\n",
    "\n",
    "        ev_m = (((ras > ra0_ - zoom) & (ras < ra0_ + zoom)) &\n",
    "                ((decs > dec0_ - zoom) & (decs < dec0_ + zoom)) &\n",
    "                (ev_idx == 0))\n",
    "        axi.scatter(ras[ev_m], decs[ev_m],\n",
    "                    s=sig_scale * np.rad2deg(sigmas[ev_m]),\n",
    "                    c=\"C0\", alpha=0.7)\n",
    "\n",
    "        # Src events in red\n",
    "        m = (src_idx + 1 == ev_idx)\n",
    "        axi.scatter(ras[m], decs[m],\n",
    "                    s=sig_scale * np.rad2deg(sigmas[ev_m]), c=\"r\")\n",
    "        # Approx. new src position\n",
    "        axi.plot(np.mean(ras[m]), np.mean(decs[m]), \"g*\", ms=7)\n",
    "        # Best fit original src position\n",
    "        axi.plot(ra0[src_idx], dec0[src_idx], \"gd\", ms=7)\n",
    "        \n",
    "        axi.set_title(\"src {:d}. Prior {:.1f} deg\".format(src_idx,\n",
    "                                                          np.rad2deg(sigma0i)))\n",
    "        make_astro_xaxis(ax)\n",
    "\n",
    "    fig.tight_layout()\n",
    "    plt.savefig(\"./multi_src_inj_{:02d}.png\".format(i), dpi=150)\n",
    "    plt.clf()"
   ]
  },
  {
   "cell_type": "code",
   "execution_count": null,
   "metadata": {
    "hidden": true
   },
   "outputs": [],
   "source": [
    "fig, ax, img = cartzoom(np.sum(ln_priors, axis=0))\n",
    "fig.colorbar(img, ax=ax)\n",
    "\n",
    "ax.scatter(ras, decs, s=5*sigmas, c=\"w\", marker=\".\", alpha=0.5)\n",
    "ax.scatter(ras[sig_idx > 0], decs[sig_idx > 0], s=5*sigmas[sig_idx > 0], c=\"r\",\n",
    "           marker=\".\", alpha=0.75)\n",
    "\n",
    "make_astro_xaxis(ax)\n",
    "plt.tight_layout()\n",
    "plt.savefig(\"./multi_src_injection_allsky.png\", dpi=300)\n",
    "plt.show()"
   ]
  },
  {
   "cell_type": "markdown",
   "metadata": {
    "heading_collapsed": true
   },
   "source": [
    "## Show prior gradient map interpolation close to the best fit position"
   ]
  },
  {
   "cell_type": "code",
   "execution_count": null,
   "metadata": {
    "hidden": true
   },
   "outputs": [],
   "source": [
    "# Place prior at the best fit src, with same sigma0 as above\n",
    "NSIDE = 512\n",
    "\n",
    "# True src position. Try various declinations.\n",
    "ra0, dec0 = np.deg2rad([300]), np.deg2rad([-70])\n",
    "th0, phi0 = DecRaToThetaPhi(dec0, ra0)\n",
    "\n",
    "# Prior width\n",
    "sigma0 = np.deg2rad([1])\n",
    "\n",
    "prior = gaussian_on_a_sphere(mean_th=th0[0], mean_phi=phi0[0], clip=5.,\n",
    "                             NSIDE=NSIDE, sigma=sigma0[0])[0]\n",
    "\n",
    "prior[prior <= 0] = np.amin(prior[prior > 0])\n",
    "ln_prior = np.log(prior)\n",
    "\n",
    "# Get the log-derivatives from the finite elements method\n",
    "ln_prior_dphi, ln_prior_dth = map_der(ln_prior)\n",
    "\n",
    "# Make ra0, dec0 more realistic by setting it to the map maximum as in HESE\n",
    "bf_idx = np.argmax(ln_prior)\n",
    "th0, phi0 = hp.pix2ang(NSIDE, bf_idx)\n",
    "dec0, ra0 = ThetaPhiToDecRa(th0, phi0)"
   ]
  },
  {
   "cell_type": "markdown",
   "metadata": {
    "hidden": true
   },
   "source": [
    "Interpolate constructed prior gradient maps close to the best fit region"
   ]
  },
  {
   "cell_type": "code",
   "execution_count": null,
   "metadata": {
    "hidden": true
   },
   "outputs": [],
   "source": [
    "ra = np.linspace(ra0 - np.deg2rad(1), ra0 + np.deg2rad(1), 100)\n",
    "dec = np.linspace(dec0 - np.deg2rad(1), dec0 + np.deg2rad(1), 100)\n",
    "\n",
    "RA, DEC = np.meshgrid(ra, dec)\n",
    "RRA, DDEC = map(np.ravel, [RA, DEC])\n",
    "TTH, PPHI = DecRaToThetaPhi(DDEC, RRA)\n",
    "\n",
    "ZZth = hp.get_interp_val(ln_prior_dth, TTH, PPHI).reshape(RA.shape)\n",
    "ZZphi = hp.get_interp_val(ln_prior_dphi, TTH, PPHI).reshape(RA.shape)\n",
    "\n",
    "fig, (axl, axr) = plt.subplots(1, 2, figsize=(12, 5))\n",
    "\n",
    "img = axl.pcolormesh(RA, DEC, ZZphi, cmap=\"seismic\")\n",
    "fig.colorbar(img, ax=axl)\n",
    "axl.plot(ra0, dec0, \"k*\")\n",
    "axl.set_title(\"Gradient in phi\")\n",
    "\n",
    "img = axr.pcolormesh(RA, DEC, ZZth, cmap=\"seismic\")\n",
    "fig.colorbar(img, ax=axr)\n",
    "axr.plot(ra0, dec0, \"k*\")\n",
    "axr.set_title(\"Gradient in theta\")\n",
    "\n",
    "plt.tight_layout()\n",
    "plt.show()"
   ]
  },
  {
   "cell_type": "markdown",
   "metadata": {
    "hidden": true
   },
   "source": [
    "Just the maps, no interpolation"
   ]
  },
  {
   "cell_type": "code",
   "execution_count": null,
   "metadata": {
    "hidden": true
   },
   "outputs": [],
   "source": [
    "fig, (axl, axr) = plt.subplots(1, 2, figsize=(12, 5))\n",
    "\n",
    "_, _, img = cartzoom_radius(ln_prior_dphi, center=[ra0, dec0], ax=axl,\n",
    "                            r=np.deg2rad(2), cmap=\"seismic\")\n",
    "fig.colorbar(img, ax=axl)\n",
    "axl.plot(ra0, dec0, \"k*\")\n",
    "axl.set_title(\"Gradient in phi\")\n",
    "\n",
    "_, _, img = cartzoom_radius(ln_prior_dth, center=[ra0, dec0], ax=axr,\n",
    "                            r=np.deg2rad(2), cmap=\"seismic\")\n",
    "fig.colorbar(img, ax=axr)\n",
    "axr.plot(ra0, dec0, \"k*\")\n",
    "axr.set_title(\"Gradient in theta\")\n",
    "\n",
    "plt.show()"
   ]
  },
  {
   "cell_type": "markdown",
   "metadata": {
    "heading_collapsed": true
   },
   "source": [
    "## Compare prior map finite element gradient to alm expansion gradients"
   ]
  },
  {
   "cell_type": "code",
   "execution_count": null,
   "metadata": {
    "hidden": true
   },
   "outputs": [],
   "source": [
    "# Create a test sample\n",
    "rnd_gen = np.random.RandomState(23453453)\n",
    "nbg = 10000\n",
    "nsig = 10\n",
    "# True src position \n",
    "# Note: If dec=0, than the comparison to the simple analytic gradient is correct\n",
    "ra0, dec0 = np.deg2rad([300]), np.deg2rad([0])\n",
    "th0, phi0 = DecRaToThetaPhi(dec0, ra0)\n",
    "# Prior width (used in injection too!)\n",
    "sigma0 = np.deg2rad([5])\n",
    "\n",
    "sig = {\"nsig\": nsig, \"ra\": ra0, \"dec\": dec0, \"sigma\": sigma0}\n",
    "\n",
    "ras, decs, sigmas, ev_idx = make_sample(nbg, sig, rnd=rnd_gen)"
   ]
  },
  {
   "cell_type": "code",
   "execution_count": null,
   "metadata": {
    "hidden": true
   },
   "outputs": [],
   "source": [
    "# Place prior at the best fit src, with same sigma0 as above\n",
    "NSIDE = 256\n",
    "prior = gaussian_on_a_sphere(mean_th=th0[0], mean_phi=phi0[0], clip=5.,\n",
    "                             NSIDE=NSIDE, sigma=sigma0[0])[0]\n",
    "\n",
    "prior[prior <= 0] = np.amin(prior[prior > 0])\n",
    "ln_prior = np.log(prior)\n",
    "\n",
    "# Get the log-derivatives from the finite elements method\n",
    "ln_prior_dphi, ln_prior_dth = map_der(ln_prior)\n",
    "\n",
    "# And from the alm epxansion to compare against\n",
    "ln_alm = hp.map2alm(ln_prior)\n",
    "_, ln_prior_alm_dth, ln_prior_alm_dphi = hp.alm2map_der1(alm=ln_alm, nside=NSIDE)"
   ]
  },
  {
   "cell_type": "markdown",
   "metadata": {
    "hidden": true
   },
   "source": [
    "Compare dphi prior to analytic solution.\n",
    "ln(gaus) is a parabola, so at the horizon (euclidean regime) we see the expected linear gradient."
   ]
  },
  {
   "cell_type": "code",
   "execution_count": null,
   "metadata": {
    "hidden": true
   },
   "outputs": [],
   "source": [
    "th = th0\n",
    "phis = np.linspace(0, 2*np.pi, 100)\n",
    "vals = hp.get_interp_val(m=ln_prior_dphi, theta=th, phi=phis)\n",
    "\n",
    "clip = 6\n",
    "m = (phis > phi0 - clip * sigma0) & (phis < phi0 + clip * sigma0)\n",
    "comp = - 1. / sigma0**2 * (phis - phi0)\n",
    "\n",
    "plt.plot(phis[m], vals[m], c=\"k\", lw=2.5)\n",
    "plt.plot(phis[m], comp[m], c=\"C3\", ls=\"--\", lw=2.5)\n",
    "plt.show()"
   ]
  },
  {
   "cell_type": "code",
   "execution_count": null,
   "metadata": {
    "hidden": true
   },
   "outputs": [],
   "source": [
    "cmap = plt.cm.coolwarm\n",
    "cmap.set_under(\"w\")\n",
    "hp.mollview(ln_prior_dphi, cmap=cmap)\n",
    "hp.graticule(verbose=False)\n",
    "plt.show()"
   ]
  },
  {
   "cell_type": "markdown",
   "metadata": {
    "hidden": true
   },
   "source": [
    "Compare finite element gradients with the alm expansion gradients from healpy."
   ]
  },
  {
   "cell_type": "code",
   "execution_count": null,
   "metadata": {
    "hidden": true
   },
   "outputs": [],
   "source": [
    "cmap = plt.cm.coolwarm\n",
    "cmap.set_under(\"w\")\n",
    "hp.cartview(ln_prior_dth, cmap=cmap, unit=\"fe grad th\")\n",
    "hp.projplot(th0, phi0, \"k*\")\n",
    "hp.graticule(verbose=False)\n",
    "plt.show()\n",
    "\n",
    "hp.cartview(ln_prior_dphi, cmap=cmap, unit=\"fe grad phi\")\n",
    "hp.projplot(th0, phi0, \"k*\")\n",
    "hp.graticule(verbose=False)\n",
    "plt.show()\n",
    "\n",
    "# alm gradients, showing artifacts near th poles\n",
    "cmap = plt.cm.coolwarm\n",
    "cmap.set_under(\"w\")\n",
    "hp.cartview(ln_prior_alm_dth, cmap=cmap, unit=\"alm grad th\")\n",
    "hp.projplot(th0, phi0, \"k*\")\n",
    "hp.graticule(verbose=False)\n",
    "plt.show()\n",
    "\n",
    "hp.cartview(ln_prior_alm_dphi, cmap=cmap, unit=\"alm grad phi\")\n",
    "hp.projplot(th0, phi0, \"k*\")\n",
    "hp.graticule(verbose=False)\n",
    "plt.show()"
   ]
  },
  {
   "cell_type": "markdown",
   "metadata": {
    "heading_collapsed": true
   },
   "source": [
    "## Gradient in ns, ra, dec"
   ]
  },
  {
   "cell_type": "markdown",
   "metadata": {
    "hidden": true
   },
   "source": [
    "Testing the gradients for multi src cases and fitting each weight."
   ]
  },
  {
   "cell_type": "code",
   "execution_count": null,
   "metadata": {
    "hidden": true
   },
   "outputs": [],
   "source": [
    "rnd_gen = np.random.RandomState(32423)\n",
    "nbg = int(1e5)\n",
    "nsig = [6, 3]\n",
    "\n",
    "ra0 = np.deg2rad([40, 250])\n",
    "dec0 = np.deg2rad([-20, 80])\n",
    "band = np.deg2rad(15)  # To speed up calculations\n",
    "\n",
    "sig = {\"nsig\": nsig, \"ra\": ra0, \"dec\": dec0, \"sigma\": 0.}\n",
    "ras, decs, sigmas, ev_idx = make_sample(nbg, sig=sig, rnd=rnd_gen)"
   ]
  },
  {
   "cell_type": "code",
   "execution_count": null,
   "metadata": {
    "hidden": true
   },
   "outputs": [],
   "source": [
    "# Testrun to see if band is large enough\n",
    "ns0 = [6., 3.]\n",
    "\n",
    "x = (ns0, ra0, dec0)\n",
    "data = (ras, decs, sigmas)\n",
    "\n",
    "print(llh_ratio(x, data, band=None))\n",
    "print(llh_ratio(x, data, band=band))"
   ]
  },
  {
   "cell_type": "markdown",
   "metadata": {
    "hidden": true
   },
   "source": [
    "Scan in single ns for fixed ra, dec"
   ]
  },
  {
   "cell_type": "code",
   "execution_count": null,
   "metadata": {
    "hidden": true
   },
   "outputs": [],
   "source": [
    "assert len(nsig) == len(dec0) == len(ra0) == 2\n",
    "\n",
    "data = (ras, decs, sigmas)\n",
    "ns = np.linspace(0, 10, 100)\n",
    "for src_idx in range(len(dec0)):\n",
    "    llh, grad_ns = [], []\n",
    "    for nsi in ns:\n",
    "        llhi, gradi = llh_ratio((nsi, ra0[src_idx], dec0[src_idx]), data,\n",
    "                                band=band)\n",
    "        llh.append(llhi)\n",
    "        grad_ns.append(gradi[0])\n",
    "\n",
    "    idx = np.argmax(llh)\n",
    "    ns_bf = ns[idx]\n",
    "\n",
    "    plt.plot(ns, llh)\n",
    "    plt.plot(ns, grad_ns)\n",
    "    plt.plot(0.5 * (ns[:-1] + ns[1:]), np.diff(llh) / np.diff(ns),\n",
    "             ls=\":\", c=\"k\")\n",
    "    plt.axhline(0, 0, 1, ls=\"-\", c=\"C7\")\n",
    "    plt.axvline(0, 0, 1, ls=\"-\", c=\"C7\")\n",
    "    plt.axvline(nsig[src_idx], 0, 1, ls=\"-.\", c=\"C7\", label=\"inj nsig\")\n",
    "    plt.axvline(ns_bf, 0, 1, ls=\"--\", c=\"C7\", label=\"Scan bf ns\")\n",
    "    plt.title(\"grad = {:.3f}\".format(grad_ns[idx]))\n",
    "    plt.legend()\n",
    "    plt.savefig(\"./ns{:d}_grad_2srcs.png\".format(src_idx), dpi=150)\n",
    "    plt.show()"
   ]
  },
  {
   "cell_type": "markdown",
   "metadata": {
    "hidden": true
   },
   "source": [
    "Scan in double ns for fixed {ras, decs}, two sources"
   ]
  },
  {
   "cell_type": "code",
   "execution_count": null,
   "metadata": {
    "hidden": true
   },
   "outputs": [],
   "source": [
    "data = (ras, decs, sigmas)\n",
    "\n",
    "ns0 = np.linspace(0, 10, 20)\n",
    "ns1 = np.linspace(0, 10, 20)\n",
    "assert len(nsig) == len(dec0) == len(ra0) == 2\n",
    "\n",
    "NS0, NS1 = np.meshgrid(ns0, ns1)\n",
    "\n",
    "llh, grad_ns = [], []\n",
    "\n",
    "# Change to test a position ([1, 2]) with no signal instead\n",
    "ra0_ = ra0\n",
    "ra0_ = [1., 2.]\n",
    "\n",
    "for (ns0i, ns1i) in tqdm(zip(*map(np.ravel, [NS0, NS1]))):\n",
    "    llhi, gradi = llh_ratio(([ns0i, ns1i], ra0_, dec0), data, band=band)\n",
    "    llh.append(llhi)\n",
    "    grad_ns.append(gradi[:2])\n",
    "    \n",
    "llh = np.array(llh).reshape(NS0.shape)\n",
    "grad_ns0 = np.array(grad_ns)[:, 0].reshape(NS0.shape)\n",
    "grad_ns1 = np.array(grad_ns)[:, 1].reshape(NS1.shape)"
   ]
  },
  {
   "cell_type": "code",
   "execution_count": null,
   "metadata": {
    "hidden": true
   },
   "outputs": [],
   "source": [
    "src_idx = 1\n",
    "m = (ev_idx == src_idx + 1)\n",
    "scale = 300\n",
    "\n",
    "plt.scatter(ras, decs, s=scale * sigmas, c=\"C7\")\n",
    "plt.scatter(ras[m], decs[m], s=scale * sigmas, c=\"C3\")\n",
    "\n",
    "plt.plot(ra0_[src_idx], dec0[src_idx], \"k*\", ms=15, lw=2, mfc=\"none\")\n",
    "\n",
    "plt.xlim(ra0_[src_idx] - 0.2, ra0_[src_idx] + 0.2)\n",
    "plt.ylim(dec0[src_idx] - 0.2, dec0[src_idx] + 0.2)\n",
    "make_astro_xaxis(plt.gca())\n",
    "plt.show()"
   ]
  },
  {
   "cell_type": "code",
   "execution_count": null,
   "metadata": {
    "hidden": true
   },
   "outputs": [],
   "source": [
    "# ra0_ = [1, 2] gradients should point to [0, 0]\n",
    "img = plt.pcolormesh(NS0, NS1, llh, cmap=inferno_c)\n",
    "plt.colorbar(img)\n",
    "\n",
    "plt.quiver(NS0, NS1, grad_ns0, grad_ns1, color=\"w\")\n",
    "plt.savefig(\"./ns_grad_2srcs_offsrc.png\", dpi=300)\n",
    "plt.show()"
   ]
  },
  {
   "cell_type": "markdown",
   "metadata": {
    "hidden": true
   },
   "source": [
    "Scan in ra, dec for fixed {ns} to test ra, dec gradients"
   ]
  },
  {
   "cell_type": "code",
   "execution_count": null,
   "metadata": {
    "hidden": true
   },
   "outputs": [],
   "source": [
    "assert len(nsig) == len(dec0) == len(ra0) == 2\n",
    "\n",
    "# Try both src locations\n",
    "src_idx = 1\n",
    "ra0_ = ra0[src_idx]\n",
    "dec0_ = dec0[src_idx]\n",
    "\n",
    "box_w = np.deg2rad(5)\n",
    "ra_ = np.linspace(ra0_ - box_w, ra0_ + box_w, 40)\n",
    "dec_ = np.linspace(dec0_ - box_w, dec0_ + box_w, 40)\n",
    "\n",
    "RR, DD = np.meshgrid(ra_, dec_)\n",
    "rr, dd = map(np.ravel, [RR, DD])\n",
    "\n",
    "llh, grad_ra, grad_dec = [], [], []\n",
    "# Temp copies for the arguments per scan point\n",
    "ra0_ins = np.copy(ra0)\n",
    "dec0_ins = np.copy(dec0)\n",
    "for ri, di in tqdm(zip(rr, dd)):\n",
    "    ra0_ins[src_idx] = ri\n",
    "    dec0_ins[src_idx] = di\n",
    "    llhi, gradi = llh_ratio((nsig, ra0_ins, dec0_ins), data, band=band)\n",
    "    llh.append(llhi)\n",
    "    grad_ra.append(gradi[2 + src_idx])\n",
    "    grad_dec.append(gradi[4 + src_idx])\n",
    "    \n",
    "llh = np.array(llh).reshape(RR.shape)\n",
    "grad_ra = np.array(grad_ra).reshape(RR.shape)\n",
    "grad_dec = np.array(grad_dec).reshape(RR.shape)"
   ]
  },
  {
   "cell_type": "code",
   "execution_count": null,
   "metadata": {
    "hidden": true
   },
   "outputs": [],
   "source": [
    "img = plt.pcolormesh(RR, DD, llh, cmap=inferno_c)\n",
    "plt.colorbar(img)\n",
    "\n",
    "plt.xlim(*ra_[[0, -1]])\n",
    "plt.ylim(*dec_[[0, -1]])\n",
    "make_astro_xaxis(plt.gca())\n",
    "\n",
    "# Plot -grad_ra, because astro axis is from right to left in RA\n",
    "plt.quiver(RR, DD, -grad_ra, grad_dec, color=\"w\")\n",
    "\n",
    "ev_m = (((ras > ra_[0]) & (ras < ra_[-1])) &\n",
    "        ((decs > dec_[0]) & (decs < dec_[-1])))\n",
    "plt.scatter(ras[ev_m], decs[ev_m], s=1000 * sigmas[ev_m], alpha=0.5,\n",
    "            facecolors=\"none\", edgecolors=\"w\")\n",
    "\n",
    "plt.savefig(\"./ra_dec_grad_2srcs_src_{:d}.png\".format(src_idx), dpi=300)\n",
    "plt.show()"
   ]
  },
  {
   "cell_type": "markdown",
   "metadata": {
    "heading_collapsed": true
   },
   "source": [
    "## Event injection"
   ]
  },
  {
   "cell_type": "code",
   "execution_count": null,
   "metadata": {
    "hidden": true
   },
   "outputs": [],
   "source": [
    "rnd_gen = np.random.RandomState(324243565)"
   ]
  },
  {
   "cell_type": "code",
   "execution_count": null,
   "metadata": {
    "hidden": true
   },
   "outputs": [],
   "source": [
    "# Tune rayleigh to draw sigmas from\n",
    "x = np.linspace(0, 10, 500)\n",
    "loc = 0.3\n",
    "y = scs.rayleigh.pdf(x, loc=loc, scale=0.7)\n",
    "plt.hist(scs.rayleigh.rvs(loc=loc, scale=0.7, size=10000, random_state=rnd_gen),\n",
    "         bins=20, normed=True, alpha=.5)\n",
    "# Test manual movement, numpy only has the scale parameter\n",
    "plt.hist(rnd_gen.rayleigh(scale=0.7, size=10000) + loc, bins=20,\n",
    "         normed=True, alpha=.5)\n",
    "plt.axvline(1, 0, 1, ls=\"--\", color=\"C7\")\n",
    "\n",
    "plt.plot(x, y)\n",
    "plt.xlim(0, 5)\n",
    "plt.xlabel(\"sigma in deg\")\n",
    "plt.ylabel(\"PDF\")\n",
    "plt.show()"
   ]
  },
  {
   "cell_type": "code",
   "execution_count": null,
   "metadata": {
    "hidden": true,
    "scrolled": true
   },
   "outputs": [],
   "source": [
    "# Test signal injection\n",
    "sigmas = get_evt_sigmas(100, rnd_gen) * 10\n",
    "ra0, dec0 = np.pi, 0.3\n",
    "ra, dec = inject_signal(100, src_ra=ra0, src_dec=dec0, sigma=sigmas,\n",
    "                        rnd=rnd_gen)\n",
    "plt.scatter(ra, dec, s=sigmas * 100)\n",
    "plt.plot(ra0, dec0, \"k*\", mfc=\"w\", ms=15)\n",
    "plt.xlim(0, 2*np.pi)\n",
    "plt.ylim(-np.pi/2, np.pi/2)\n",
    "plt.xlabel(\"ra in rad\")\n",
    "plt.ylabel(\"dec in rad\")\n",
    "plt.title(\"sigma scaled up for viewing\")\n",
    "plt.show()"
   ]
  },
  {
   "cell_type": "code",
   "execution_count": null,
   "metadata": {
    "hidden": true
   },
   "outputs": [],
   "source": [
    "# Test injection, no src variation\n",
    "nbg = 10000\n",
    "sig = {\"nsig\": [10, 20, 30],\n",
    "       \"ra\": np.deg2rad([20, 50, 300]),\n",
    "       \"dec\": np.deg2rad([-20, 10, 50]),\n",
    "       \"sigma\": np.deg2rad([0.])}\n",
    "\n",
    "ev_ras, ev_decs, ev_sigmas, idx = make_sample(nbg, sig, rnd=rnd_gen)\n",
    "ev_ths, ev_phis = DecRaToThetaPhi(ev_decs, ev_ras)\n",
    "\n",
    "hp.mollview()\n",
    "hp.graticule(verbose=False)\n",
    "for src_idx in np.sort(np.unique(idx)):\n",
    "    m = (idx == src_idx)\n",
    "    if src_idx == 0:\n",
    "        c = \"C7\"\n",
    "        label = \"BG\"\n",
    "    else:\n",
    "        c = \"C{:d}\".format(src_idx)\n",
    "        label = \"src {:d}\".format(src_idx)\n",
    "        src_th, src_phi = DecRaToThetaPhi(sig[\"dec\"][src_idx-1],\n",
    "                                          sig[\"ra\"][src_idx-1])\n",
    "        hp.projplot(src_th, src_phi, \"ko\", mfc=\"none\", lw=1.5, ms=10)\n",
    "        \n",
    "    hp.projscatter(ev_ths[m], ev_phis[m], s=ev_sigmas[m] * 100, c=c,\n",
    "                   label=label)\n",
    "\n",
    "plt.text(s=\"0h\", x=2.05, y=0, horizontalalignment=\"left\",\n",
    "         verticalalignment=\"center\")\n",
    "plt.text(s=\"24h\", x=-2.05, y=0, horizontalalignment=\"right\",\n",
    "         verticalalignment=\"center\")\n",
    "plt.text(s=u\"-90°\", x=0, y=-1.05, horizontalalignment=\"center\",\n",
    "         verticalalignment=\"top\")\n",
    "plt.legend()\n",
    "plt.show()"
   ]
  },
  {
   "cell_type": "markdown",
   "metadata": {
    "heading_collapsed": true
   },
   "source": [
    "## Generic -- Proper RA wrapped box mode timing psLLH vs naive"
   ]
  },
  {
   "cell_type": "markdown",
   "metadata": {
    "hidden": true
   },
   "source": [
    "Naive timing is better by a factor of 4, because it doesn't need mod and abs operations, but simply compares to two more places at -2pi and 2pi after centering to the src positions.\n",
    "\n",
    "Note: Execute withour timeit first to get variable names."
   ]
  },
  {
   "cell_type": "code",
   "execution_count": null,
   "metadata": {
    "hidden": true
   },
   "outputs": [],
   "source": [
    "rnd_gen = np.random.RandomState(43374563)\n",
    "nbg = int(1e3)\n",
    "src_ras = np.deg2rad([1, 2, 3, 10, 20, 100, 200, 300, 350, 355, 359, ])\n",
    "src_decs = np.ones_like(src_ras)\n",
    "ras, _, _, _ = make_sample(nbg, sig=None, rnd=rnd_gen)\n",
    "\n",
    "# Tune to see effects\n",
    "box_w = np.deg2rad(20)"
   ]
  },
  {
   "cell_type": "code",
   "execution_count": null,
   "metadata": {
    "hidden": true
   },
   "outputs": [],
   "source": [
    "# %%timeit\n",
    "# Select using wrapping and testing half the box on absolute values\n",
    "rngs1a = (np.fabs(np.mod(ras[None, :] - src_ras[:, None] + np.pi,\n",
    "                         2. * np.pi) - np.pi) < 0.5 * box_w)\n",
    "\n",
    "for i, m in enumerate(rngs1a):\n",
    "    plt.vlines(ras[m], ymin=i, ymax=i+1, linestyles=\"-\",\n",
    "               colors=\"C{:d}\".format(i % 10))\n",
    "\n",
    "plt.show()"
   ]
  },
  {
   "cell_type": "code",
   "execution_count": null,
   "metadata": {
    "hidden": true,
    "scrolled": true
   },
   "outputs": [],
   "source": [
    "# %%timeit\n",
    "# Same but with loop as in skylab\n",
    "box2 = 0.5 * box_w\n",
    "\n",
    "rngs1b = np.zeros((len(src_ras), len(ras)), dtype=bool)\n",
    "for i, src_rai in enumerate(src_ras):\n",
    "    rngs1b[i] = (np.fabs(np.mod(ras - src_rai + np.pi, 2. * np.pi) - np.pi) <\n",
    "                 box2)\n",
    "\n",
    "for i, m in enumerate(rngs1b):\n",
    "    plt.vlines(ras[m], ymin=i, ymax=i+1, linestyles=\"-\",\n",
    "               colors=\"C{:d}\".format(i % 10))\n",
    "\n",
    "plt.show()"
   ]
  },
  {
   "cell_type": "code",
   "execution_count": null,
   "metadata": {
    "hidden": true
   },
   "outputs": [],
   "source": [
    "# %%timeit\n",
    "# Select using shift and testing symetrical in negative values too\n",
    "ras_ = (ras[None, :] - src_ras[:, None])\n",
    "rngs2a = (((ras_ > -0.5 * box_w) & (ras_ < 0.5 * box_w)) |\n",
    "          ((ras_ > 2*np.pi - 0.5 * box_w) | (ras_ < -2*np.pi + 0.5 * box_w)))\n",
    "\n",
    "for i, m in enumerate(rngs2a):\n",
    "    plt.vlines(ras[m], ymin=i, ymax=i+1, linestyles=\"-\",\n",
    "               colors=\"C{:d}\".format(i % 10))\n",
    "\n",
    "plt.show()"
   ]
  },
  {
   "cell_type": "code",
   "execution_count": null,
   "metadata": {
    "hidden": true
   },
   "outputs": [],
   "source": [
    "# %%timeit\n",
    "# Same but with loop, save some memory if only m_tot is stored\n",
    "box2 = 0.5 * box_w\n",
    "\n",
    "rngs2b = np.zeros((len(src_ras), len(ras)), dtype=bool)\n",
    "for i, src_rai in enumerate(src_ras):\n",
    "    ras_ = ras - src_rai\n",
    "    rngs2b[i] = (((ras_ > -box2) & (ras_ < box2)) |\n",
    "                ((ras_ > 2. * np.pi - box2) | (ras_ < -2. * np.pi + box2)))\n",
    "\n",
    "for i, mi in enumerate(rngs2b):\n",
    "    plt.vlines(ras[mi], ymin=i, ymax=i+1, linestyles=\"-\",\n",
    "               colors=\"C{:d}\".format(i % 10))\n",
    "\n",
    "plt.show()"
   ]
  },
  {
   "cell_type": "code",
   "execution_count": null,
   "metadata": {
    "hidden": true
   },
   "outputs": [],
   "source": [
    "# Check masks are equal\n",
    "print(\"All masks equal: \", (np.all(rngs1a == rngs1b) &\n",
    "                            np.all(rngs2a == rngs2b) &\n",
    "                            np.all(rngs1a == rngs2a)))"
   ]
  },
  {
   "cell_type": "markdown",
   "metadata": {
    "heading_collapsed": true
   },
   "source": [
    "## Generic -- Single ns LLH test: Is the best fit pixel always the largest LLH over all ns?"
   ]
  },
  {
   "cell_type": "markdown",
   "metadata": {
    "hidden": true
   },
   "source": [
    "No it isn't, LLH functions can crossover.\n",
    "This makes it very hard to find a valid seed in the multi local minima landscape when fitting multiple src positions.\n",
    "In principle every pixel combination for each src and the best total ns must be tested then.\n",
    "This is exponentially complec and not doable.\n",
    "\n",
    "So fitting each srcs ns weight increses the parameter space, but maybe makes it easier to seed, because it reduces the ns correlation.\n",
    "\n",
    "It is more model independent anyway..."
   ]
  },
  {
   "cell_type": "code",
   "execution_count": null,
   "metadata": {
    "hidden": true
   },
   "outputs": [],
   "source": [
    "def logtest(ns, sobs):\n",
    "    sobs = sobs[:, None]\n",
    "    return np.sum(np.log(ns / len(sobs) * (sobs - 1.) + 1.), axis=0)"
   ]
  },
  {
   "cell_type": "code",
   "execution_count": null,
   "metadata": {
    "hidden": true
   },
   "outputs": [],
   "source": [
    "sobs_1 = np.concatenate((np.random.uniform(0, 0.1, size=100), [100.]))\n",
    "sobs_2 = np.concatenate((np.random.uniform(0, 0.1, size=100), [75., 75.]))\n",
    "sobs_3 = np.concatenate((np.random.uniform(0, 0.1, size=100), [50., 50., 50.]))\n",
    "sobs_4 = np.random.uniform(0, 1, size=100)\n",
    "\n",
    "ns = np.linspace(0, 10, 200)\n",
    "\n",
    "plt.plot(ns, logtest(ns, sobs_1), label=\"sobs 1\")\n",
    "plt.plot(ns, logtest(ns, sobs_2), ls=\":\", label=\"sobs 2\")\n",
    "plt.plot(ns, logtest(ns, sobs_3), ls=\"--\", label=\"sobs 3\")\n",
    "plt.plot(ns, logtest(ns, sobs_4), ls=\"-.\", label=\"sobs 4\")\n",
    "plt.legend()\n",
    "plt.show()"
   ]
  },
  {
   "cell_type": "markdown",
   "metadata": {
    "heading_collapsed": true
   },
   "source": [
    "## Generic -- Fitting over periodic variables with ana and fe gradients"
   ]
  },
  {
   "cell_type": "code",
   "execution_count": null,
   "metadata": {
    "hidden": true
   },
   "outputs": [],
   "source": [
    "def _wrap_ang(x):\n",
    "    \"\"\"\n",
    "    Angle wrapped periodically in [0, 2pi].\n",
    "    \"\"\"\n",
    "    return np.mod(x - 2. * np.pi, 2. * np.pi)\n",
    "\n",
    "def _func(x):\n",
    "    \"\"\"\n",
    "    Sinus is a good model function. True minimum at 3/2*pi in [0,2pi].\n",
    "    If seeded left of maximum at pi/2 we get stuck at zero if we dont wrap.\n",
    "    \"\"\"\n",
    "    return np.sin(x), np.cos(x)\n",
    "\n",
    "def fitfunc_anagrad(x):\n",
    "    \"\"\"\n",
    "    Simple parabole with analytic gradient to test periodic wrapped fit.\n",
    "    \"\"\"\n",
    "    # Wrap angle, should be OK with analytic gradient\n",
    "    x = _wrap_ang(x)\n",
    "    return _func(x)\n",
    "\n",
    "def fitfunc_nograd(x):\n",
    "    \"\"\"\n",
    "    Simple parabole with analytic gradient to test periodic wrapped fit.\n",
    "    \"\"\"\n",
    "    # Wrap angle, should crash finite element gradient\n",
    "    x = _wrap_ang(x)\n",
    "    return _func(x)[0]"
   ]
  },
  {
   "cell_type": "code",
   "execution_count": null,
   "metadata": {
    "hidden": true
   },
   "outputs": [],
   "source": [
    "# True minimum at -1\n",
    "x0 = [1.]\n",
    "bounds = [[-2. * np.pi, 4. * np.pi]]\n",
    "\n",
    "ana_res = sco.minimize(fitfunc_anagrad, x0=x0, bounds=bounds, jac=True)\n",
    "nog_res = sco.minimize(fitfunc_nograd, x0=x0, bounds=bounds, jac=False)"
   ]
  },
  {
   "cell_type": "code",
   "execution_count": null,
   "metadata": {
    "hidden": true
   },
   "outputs": [],
   "source": [
    "ana_res"
   ]
  },
  {
   "cell_type": "code",
   "execution_count": null,
   "metadata": {
    "hidden": true
   },
   "outputs": [],
   "source": [
    "nog_res"
   ]
  },
  {
   "cell_type": "code",
   "execution_count": null,
   "metadata": {
    "hidden": true
   },
   "outputs": [],
   "source": [
    "x = np.linspace(bounds[0][0], bounds[0][1], 300)\n",
    "func, grad = fitfunc_anagrad(x)\n",
    "\n",
    "plt.plot(x, func)\n",
    "plt.plot(x, grad)\n",
    "\n",
    "plt.axhline(0, ls=\"-\", c=\"C7\")\n",
    "plt.axvline(0, ls=\"-\", c=\"C7\")\n",
    "plt.axvline(2*np.pi, ls=\"-\", c=\"C7\")\n",
    "plt.axvline(x[0], ls=\"--\", c=\"C7\")\n",
    "plt.axvline(x[-1], ls=\"--\", c=\"C7\")\n",
    "\n",
    "plt.axvline(3.*np.pi/2., ls=\"-.\", c=\"C7\")\n",
    "plt.axvline(ana_res.x, ls=\"-.\", c=\"C4\")\n",
    "plt.axvline(nog_res.x, ls=\"-.\", c=\"C5\")\n",
    "\n",
    "plt.show()"
   ]
  },
  {
   "cell_type": "code",
   "execution_count": null,
   "metadata": {
    "hidden": true
   },
   "outputs": [],
   "source": [
    "# Small test for the wrapper function\n",
    "ras_ = np.linspace(-2*np.pi, 4*np.pi, 20)\n",
    "ras__ = _wrap_ang(ras_)\n",
    "print(ras_)\n",
    "print(ras__)\n",
    "\n",
    "plt.plot(ras_, ras_)\n",
    "plt.plot(ras_, ras__)\n",
    "plt.show()"
   ]
  },
  {
   "cell_type": "markdown",
   "metadata": {
    "heading_collapsed": true
   },
   "source": [
    "## Generic -- Numerical 1st derivate test"
   ]
  },
  {
   "cell_type": "code",
   "execution_count": null,
   "metadata": {
    "hidden": true
   },
   "outputs": [],
   "source": [
    "phis = np.arange(5)**2\n",
    "# Make periodic boundaries\n",
    "phis = np.r_[phis, phis[::-1]]\n",
    "phis = np.r_[phis[-1], phis, phis[0]]\n",
    "\n",
    "dphis = (phis[2:] - phis[:-2]) / 2\n",
    "\n",
    "x = np.arange(len(phis) - 2)\n",
    "mids = 0.5 * (x[:-1] + x[1:])\n",
    "\n",
    "# Plot symmetric, forward and backward derivative\n",
    "plt.plot(x, phis[1:-1], marker=\"o\", label=\"fun\")\n",
    "plt.plot(x, dphis, marker=\"o\", label=\"sym grad\")\n",
    "plt.plot(mids, np.diff(phis[1:-1]), marker=\"o\", label=\"forw grad\")\n",
    "plt.plot(mids, np.diff(phis[1:-1]), marker=\"o\", label=\"back grad\")\n",
    "\n",
    "plt.axhline(0, c=\"C7\")\n",
    "plt.axvline(4.5, c=\"C7\", ls=\"--\")\n",
    "\n",
    "plt.legend()\n",
    "plt.show()"
   ]
  },
  {
   "cell_type": "markdown",
   "metadata": {
    "heading_collapsed": true
   },
   "source": [
    "## OLD -- Derivative of healpy maps"
   ]
  },
  {
   "cell_type": "code",
   "execution_count": null,
   "metadata": {
    "hidden": true
   },
   "outputs": [],
   "source": [
    "# Plots below optimized for phi=0°, th=45°, sigma=15°\n",
    "NSIDE = 32\n",
    "m = gaussian_on_a_sphere(mean_phi=0., mean_th=np.deg2rad(45), NSIDE=NSIDE,\n",
    "                         sigma=np.deg2rad(15), clip=False)[0]\n",
    "\n",
    "# Use log priors\n",
    "m[m <= 0] = np.nextafter(0, 1)\n",
    "lnm = np.log(m)\n",
    "\n",
    "m = m"
   ]
  },
  {
   "cell_type": "code",
   "execution_count": null,
   "metadata": {
    "hidden": true
   },
   "outputs": [],
   "source": [
    "%%time\n",
    "alm = hp.map2alm(m)\n",
    "der = hp.alm2map_der1(alm, NSIDE)"
   ]
  },
  {
   "cell_type": "code",
   "execution_count": null,
   "metadata": {
    "hidden": true
   },
   "outputs": [],
   "source": [
    "hp.mollview(der[0])\n",
    "hp.graticule(verbose=False)\n",
    "plt.show()"
   ]
  },
  {
   "cell_type": "code",
   "execution_count": null,
   "metadata": {
    "hidden": true
   },
   "outputs": [],
   "source": [
    "# Switch sign: d/dth = d/ddec ddec/dth = -d/dec -> dec = np.pi / 2 - th\n",
    "hp.mollview(-der[1], unit=\"d/dec\")\n",
    "hp.graticule(verbose=False)\n",
    "plt.show()"
   ]
  },
  {
   "cell_type": "code",
   "execution_count": null,
   "metadata": {
    "hidden": true
   },
   "outputs": [],
   "source": [
    "hp.mollview(der[2], unit=\"d/ra\")\n",
    "hp.graticule(verbose=False)\n",
    "plt.show()"
   ]
  },
  {
   "cell_type": "code",
   "execution_count": null,
   "metadata": {
    "hidden": true
   },
   "outputs": [],
   "source": [
    "# Compare to missing 1/sin(th) derivative (use small th to see effect)\n",
    "sin_th = np.sin(hp.pix2ang(NSIDE, np.arange(hp.nside2npix(NSIDE)))[0])\n",
    "dphi = der[2] * sin_th\n",
    "\n",
    "hp.mollview(dphi, unit=\"d/dra no sinTh\")\n",
    "hp.graticule(verbose=False)\n",
    "plt.show()"
   ]
  },
  {
   "cell_type": "code",
   "execution_count": null,
   "metadata": {
    "hidden": true
   },
   "outputs": [],
   "source": [
    "# Compare to a naive finite difference method, which is not really working here\n",
    "# (with higher NSDIE it gets closer) but shows the same underestimated phi\n",
    "# derivative as the healpy version\n",
    "th0 = np.deg2rad(10)\n",
    "phis = np.linspace(0, 2. * np.pi, 500)\n",
    "\n",
    "idx = np.unique(hp.ang2pix(NSIDE, th0, phis))\n",
    "phis = hp.pix2ang(NSIDE, idx)[1]\n",
    "srt_idx = np.argsort(phis)\n",
    "phis = phis[srt_idx]\n",
    "idx = idx[srt_idx]\n",
    "\n",
    "plt.plot(phis, der[2][idx], label=\"sinTh\")\n",
    "plt.plot(phis, dphi[idx], label=\"no sinTh\")\n",
    "\n",
    "num_dphi = np.diff(m[idx]) / np.diff(phis)\n",
    "mids = 0.5 * (phis[:-1] + phis[1:])\n",
    "plt.plot(mids, num_dphi, label=\"num no sinTh\", ls=\"none\",\n",
    "         marker=\".\", ms=2)\n",
    "plt.plot(mids, num_dphi / np.sin(th0), label=\"num sinTh\", ls=\"none\",\n",
    "         marker=\".\", ms=2)\n",
    "plt.ylim(-2, 2)\n",
    "plt.legend()\n",
    "plt.show()"
   ]
  },
  {
   "cell_type": "code",
   "execution_count": null,
   "metadata": {
    "hidden": true
   },
   "outputs": [],
   "source": [
    "# Show interpolation of derivative\n",
    "th0 = np.deg2rad(50)\n",
    "phis = np.linspace(0, 2. * np.pi, 500)\n",
    "\n",
    "idx = hp.ang2pix(hp.get_nside(m), th0, phis)\n",
    "\n",
    "dphi = der[2]\n",
    "\n",
    "fig, ax = plt.subplots(1, 1)\n",
    "ax.plot(phis, dphi[idx], label=\"mappix\")\n",
    "ax.plot(phis, hp.get_interp_val(m=dphi, phi=phis, theta=th0), label=\"interp\")\n",
    "\n",
    "# Zoomed insets at min/max regions to show bumpiness of pure map values\n",
    "# axins = zoomed_inset_axes(ax, zoom=4, loc=\"upper left\", )\n",
    "axins = inset_axes(ax, width=2, height=1, loc=\"upper left\")\n",
    "axins.plot(phis, dphi[idx])\n",
    "axins.plot(phis, hp.get_interp_val(m=dphi, phi=phis, theta=th0))\n",
    "axins.set_xlim(np.deg2rad(10), np.deg2rad(30))\n",
    "axins.set_ylim(1.05 * np.amin(dphi[idx]), -4)\n",
    "plt.xticks(visible=False)\n",
    "plt.yticks(visible=False)\n",
    "mark_inset(ax, axins, loc1=3, loc2=4, fc=\"none\", ec=\"0.5\")\n",
    "\n",
    "axins = inset_axes(ax, width=2, height=1, loc=\"lower right\")\n",
    "axins.plot(phis, dphi[idx])\n",
    "axins.plot(phis, hp.get_interp_val(m=dphi, phi=phis, theta=th0))\n",
    "axins.set_xlim(np.deg2rad(330), np.deg2rad(350))\n",
    "axins.set_ylim(4, 1.05 * np.amax(dphi[idx]))\n",
    "plt.xticks(visible=False)\n",
    "plt.yticks(visible=False)\n",
    "mark_inset(ax, axins, loc1=1, loc2=2, fc=\"none\", ec=\"0.5\")\n",
    "\n",
    "ax.legend(bbox_to_anchor=(0.5, 1.15), loc=\"upper center\", ncol=2)\n",
    "fig.tight_layout()\n",
    "plt.show()"
   ]
  },
  {
   "cell_type": "markdown",
   "metadata": {
    "heading_collapsed": true
   },
   "source": [
    "## OLD -- SoB gradient test plots"
   ]
  },
  {
   "cell_type": "code",
   "execution_count": null,
   "metadata": {
    "hidden": true
   },
   "outputs": [],
   "source": [
    "nbg = 10000\n",
    "nsig = 0\n",
    "ra0 = np.deg2rad(40)\n",
    "dec0 = np.deg2rad(0)\n",
    "ev_ra, ev_dec, ev_sig, mask = make_sample(nbg=nbg, nsig=nsig,\n",
    "                                          dec0=dec0, ra0=ra0)"
   ]
  },
  {
   "cell_type": "code",
   "execution_count": null,
   "metadata": {
    "hidden": true
   },
   "outputs": [],
   "source": [
    "pdf, (sig_grad_ra, sig_grad_dec) = pdf_sig(ra0, dec0, ev_ra, ev_dec, ev_sig)"
   ]
  },
  {
   "cell_type": "code",
   "execution_count": null,
   "metadata": {
    "hidden": true
   },
   "outputs": [],
   "source": [
    "pdf, (bg_grad_ra, bg_grad_dec) = pdf_bg(ev_ra, ev_dec)"
   ]
  },
  {
   "cell_type": "code",
   "execution_count": null,
   "metadata": {
    "hidden": true
   },
   "outputs": [],
   "source": [
    "sob, (sob_grad_ra, sob_grad_dec) = pdf_sob(ra0, dec0, ev_ra, ev_dec, ev_sig)"
   ]
  },
  {
   "cell_type": "code",
   "execution_count": null,
   "metadata": {
    "hidden": true
   },
   "outputs": [],
   "source": [
    "idx = np.argsort(ev_ra)\n",
    "plt.plot(ev_ra[idx][sob[idx] > 1], sob[idx][sob[idx] > 1], ls=\"\", marker=\".\")\n",
    "plt.axvline(ra0, ls=\"--\", c=\"C7\")\n",
    "plt.xlim(0, 1)\n",
    "plt.show()"
   ]
  },
  {
   "cell_type": "code",
   "execution_count": null,
   "metadata": {
    "hidden": true
   },
   "outputs": [],
   "source": [
    "# Show events in small dec band and scan src ra with fixed events\n",
    "# The summed gradient should switch at peaks, so that the src ra always wants\n",
    "# go to the locally densest event cluster.\n",
    "# Of course we have a lot of local minima, which is why the method doesn't work\n",
    "# all sky, but only in a very localized region (cut out with a prior for ex.)\n",
    "idx = np.argsort(ev_ra)\n",
    "sum_grad = []\n",
    "ras_ = np.linspace(0., 2. * np.pi, 1000)\n",
    "for ra0_ in ras_:\n",
    "    _, (sob_grad_ra, _) = pdf_sob(ra0_, dec0, ev_ra, ev_dec, ev_sig)\n",
    "    sum_grad.append(np.sum(sob_grad_ra))\n",
    "\n",
    "# Small band in dec to have the local clustering in ra only\n",
    "m = (ev_dec > dec0 - np.deg2rad(1)) & (ev_dec < dec0 + np.deg2rad(1))\n",
    "plt.hist(np.rad2deg(ev_ra[m]), bins=300)\n",
    "plt.plot(np.rad2deg(ras_), sum_grad / max(sum_grad), \"k-\")\n",
    "plt.xlabel(\"ra\")\n",
    "plt.show()"
   ]
  },
  {
   "cell_type": "markdown",
   "metadata": {
    "heading_collapsed": true
   },
   "source": [
    "## OLD -- Signal PDF gradient test plots"
   ]
  },
  {
   "cell_type": "code",
   "execution_count": null,
   "metadata": {
    "hidden": true
   },
   "outputs": [],
   "source": [
    "ev_ra = np.deg2rad(65)\n",
    "ev_dec = np.deg2rad(70)\n",
    "ev_sig = np.deg2rad(10)"
   ]
  },
  {
   "cell_type": "code",
   "execution_count": null,
   "metadata": {
    "hidden": true
   },
   "outputs": [],
   "source": [
    "# Scan in ra\n",
    "src_ras_ra = np.linspace(-2. * np.pi, 4. * np.pi, 1000)\n",
    "src_decs_ra = np.ones_like(src_ras_ra) * ev_dec\n",
    "\n",
    "pdf_ra = pdf_sig(src_ras_ra, src_decs_ra, ev_ra, ev_dec, ev_sig)[0]\n",
    "plt.plot(src_ras_ra, pdf_ra)\n",
    "plt.axvline(0, 1, 0, ls=\"-\", c=\"C7\")\n",
    "plt.axvline(2*np.pi, 1, 0, ls=\"-\", c=\"C7\")\n",
    "plt.axvline(ev_ra, ls=\"--\", c=\"C7\")\n",
    "plt.xlabel(\"ra\")\n",
    "plt.yscale(\"log\", nonposy=\"mask\")\n",
    "plt.show()"
   ]
  },
  {
   "cell_type": "code",
   "execution_count": null,
   "metadata": {
    "hidden": true
   },
   "outputs": [],
   "source": [
    "# Scan in dec\n",
    "src_decs_dec = np.linspace(-np.pi / 2., np.pi / 2., 1000)\n",
    "src_ras_dec = np.ones_like(src_decs_dec) * ev_ra\n",
    "\n",
    "pdf_dec = pdf_sig(src_ras_dec, src_decs_dec, ev_ra, ev_dec, ev_sig)[0]\n",
    "plt.plot(src_decs_dec, pdf_dec)\n",
    "plt.axvline(0, 1, 0, ls=\"-\", c=\"C7\")\n",
    "plt.axvline(ev_dec, ls=\"--\", c=\"C7\")\n",
    "plt.xlabel(\"dec\")\n",
    "plt.yscale(\"log\", nonposy=\"mask\")\n",
    "plt.show()"
   ]
  },
  {
   "cell_type": "code",
   "execution_count": null,
   "metadata": {
    "hidden": true
   },
   "outputs": [],
   "source": [
    "# Fit in ra, dec\n",
    "def fitfun(x, ev_ra, ev_dec, ev_sig):\n",
    "    pdf, grad = pdf_sig(x[0], x[1], ev_ra, ev_dec, ev_sig)\n",
    "    return -pdf, -grad\n",
    "    \n",
    "x0 = np.deg2rad([60, 60])\n",
    "res = sco.minimize(fitfun, x0=x0, bounds=[[-2*np.pi, 4*np.pi],\n",
    "                                          [-np.pi/2., np.pi/2.]],\n",
    "             jac=True, options={\"ftol\": 1e-12, \"gtol\": 1e-12}, tol=1e-12,\n",
    "             args=(ev_ra, ev_dec, ev_sig))\n",
    "\n",
    "ra_bf = wrap_angle(res.x[0], wrap_angle=2*np.pi)\n",
    "dec_bf = res.x[1]"
   ]
  },
  {
   "cell_type": "code",
   "execution_count": null,
   "metadata": {
    "hidden": true
   },
   "outputs": [],
   "source": [
    "print(res)\n",
    "print(u\"\\nBest fit: RA = {:.2f}°, DEC = {:.2f}°\".format(*np.rad2deg([ra_bf,\n",
    "                                                                    dec_bf])))\n",
    "print(u\"\\nFit seed: RA = {:.2f}°, DEC = {:.2f}°\".format(*np.rad2deg(x0)))\n",
    "print(u\"\\nTruth   : RA = {:.2f}°, DEC = {:.2f}°\".format(*np.rad2deg([ev_ra,\n",
    "                                                                    ev_dec])))"
   ]
  },
  {
   "cell_type": "code",
   "execution_count": null,
   "metadata": {
    "hidden": true,
    "scrolled": true
   },
   "outputs": [],
   "source": [
    "# Scan ra gradient\n",
    "d_pdf = np.diff(pdf_ra) / np.diff(src_ras_ra)\n",
    "\n",
    "grad_ra = pdf_sig(src_ras_ra, src_decs_ra, ev_ra, ev_dec, ev_sig)[1][0]\n",
    "mids = 0.5 * (src_ras_ra[:-1] + src_ras_ra[1:])\n",
    "\n",
    "plt.plot(src_ras_ra, grad_ra)\n",
    "plt.plot(mids, d_pdf, ls=\"--\")\n",
    "plt.axhline(0, 1, 0, ls=\"-\", c=\"C7\")\n",
    "plt.axvline(0, 1, 0, ls=\"-\", c=\"C7\")\n",
    "plt.axvline(2*np.pi, 1, 0, ls=\"-\", c=\"C7\")\n",
    "\n",
    "plt.axvline(res.x[0], 0, 1, ls=\"-.\", c=\"C2\")\n",
    "plt.axvline(ra_bf, 0, 1, ls=\"-.\", c=\"C2\")\n",
    "plt.axvline(ev_ra, 1, 0, ls=\"--\", c=\"C7\")\n",
    "\n",
    "plt.title(u\"Best fit RA = {:.2f}°\".format(np.rad2deg(ra_bf)))\n",
    "plt.xlabel(\"ra\")\n",
    "plt.yscale(\"symlog\", linthreshy=1e-2)\n",
    "plt.show()"
   ]
  },
  {
   "cell_type": "code",
   "execution_count": null,
   "metadata": {
    "hidden": true,
    "scrolled": true
   },
   "outputs": [],
   "source": [
    "# Scan dec gradient\n",
    "d_pdf = np.diff(pdf_dec) / np.diff(src_decs_dec)\n",
    "\n",
    "grad_dec = pdf_sig(src_ras_dec, src_decs_dec, ev_ra, ev_dec, ev_sig)[1][1]\n",
    "mids = 0.5 * (src_decs_dec[:-1] + src_decs_dec[1:])\n",
    "\n",
    "plt.plot(src_decs_dec, grad_dec)\n",
    "plt.plot(mids, d_pdf, ls=\"--\")\n",
    "plt.axhline(0, 1, 0, ls=\"-\", c=\"C7\")\n",
    "plt.axvline(-np.pi / 2., 1, 0, ls=\"-\", c=\"C7\")\n",
    "plt.axvline(np.pi / 2., 1, 0, ls=\"-\", c=\"C7\")\n",
    "\n",
    "plt.axvline(res.x[1], 0, 1, ls=\"-.\", c=\"C2\")\n",
    "plt.axvline(dec_bf, 0, 1, ls=\"-.\", c=\"C2\")\n",
    "plt.axvline(ev_dec, 1, 0, ls=\"--\", c=\"C7\")\n",
    "\n",
    "plt.title(u\"Best fit DEC = {:.2f}°\".format(np.rad2deg(dec_bf)))\n",
    "plt.xlabel(\"dec\")\n",
    "plt.yscale(\"symlog\", linthreshy=1e-2)\n",
    "plt.show()"
   ]
  },
  {
   "cell_type": "markdown",
   "metadata": {
    "heading_collapsed": true
   },
   "source": [
    "## OLD -- Zoom maps"
   ]
  },
  {
   "cell_type": "code",
   "execution_count": null,
   "metadata": {
    "hidden": true
   },
   "outputs": [],
   "source": [
    "ra0, dec0 = [0.5 * np.pi, 0.5 * np.pi / 2.]\n",
    "th0, phi0 = DecRaToThetaPhi(dec0, ra0)\n",
    "m = gaussian_on_a_sphere(clip=False, NSIDE=128, sigma=np.deg2rad(5),\n",
    "                         mean_phi=phi0, mean_th=th0)[0]\n",
    "\n",
    "fig, ax = plt.subplots(1, 1)\n",
    "radius = np.deg2rad(20)\n",
    "# cartzoom_radius(m, r=radius, center=[ra0, dec0])\n",
    "# cartzoom(m, dec_rng=[np.deg2rad(40), np.deg2rad(50)],\n",
    "#          ra_rng=[np.deg2rad(95), np.deg2rad(105)])\n",
    "cartzoom(m)\n",
    "make_astro_xaxis(ax, time_xax=True)\n",
    "ax.grid(which=\"both\")\n",
    "plt.show()\n",
    "\n",
    "lon, lat = None, None\n",
    "hp.cartview(m, cmap=plt.cm.viridis)  # , lonra=[-90, 0], latra=[0, 90])\n",
    "hp.graticule(color=\"w\", verbose=False)\n",
    "plt.show()"
   ]
  },
  {
   "cell_type": "markdown",
   "metadata": {
    "heading_collapsed": true
   },
   "source": [
    "## OLD -- Prior map tests"
   ]
  },
  {
   "cell_type": "code",
   "execution_count": null,
   "metadata": {
    "hidden": true
   },
   "outputs": [],
   "source": [
    "phi0, th0 = np.pi / 2., np.pi / 2.\n",
    "m = gaussian_on_a_sphere(mean_th=th0, mean_phi=phi0, clip=False,\n",
    "                         NSIDE=32, sigma=np.deg2rad(5))[0]\n",
    "m[m <= 0] = np.nextafter(0, 1)  # Set 0 to minimal machine val > 0 for log"
   ]
  },
  {
   "cell_type": "code",
   "execution_count": null,
   "metadata": {
    "hidden": true
   },
   "outputs": [],
   "source": [
    "# Scan theta with fixed phi0\n",
    "ths = np.linspace(0, np.pi, 1000)\n",
    "vals = hp.get_interp_val(m=np.log(m), phi=phi0, theta=ths)\n",
    "\n",
    "plt.plot(ths, np.log(m[hp.ang2pix(nside=hp.get_nside(m),\n",
    "                                  theta=ths, phi=phi0)]))\n",
    "plt.plot(ths, vals, label=\"interp\")\n",
    "plt.xlabel(\"theta\")\n",
    "plt.ylabel(\"lnPDF\")\n",
    "plt.legend()\n",
    "plt.show()"
   ]
  },
  {
   "cell_type": "code",
   "execution_count": null,
   "metadata": {
    "hidden": true,
    "scrolled": true
   },
   "outputs": [],
   "source": [
    "# Scan phi in multiple thetas\n",
    "phis = np.linspace(0, 2. * np.pi, 1000)\n",
    "th0s = np.linspace(0, np.pi / 2., 20)\n",
    "cols = plt.cm.viridis(th0s / np.amax(th0s))\n",
    "for th0, c in zip(th0s, cols):\n",
    "    plt.plot(phis, np.log(m[hp.ang2pix(nside=hp.get_nside(m),\n",
    "                                       theta=th0, phi=phis)]), c=c)\n",
    "    plt.plot(phis, np.log(hp.get_interp_val(m=m, phi=phis, theta=th0)),\n",
    "             c=\"k\", label=r\"${:.1f}\\pi$\".format(th0 / np.pi), ls=\"-\", lw=1)\n",
    "\n",
    "# plt.legend(bbox_to_anchor=(1, 1), loc=\"upper left\", ncol=2)\n",
    "plt.show()"
   ]
  },
  {
   "cell_type": "code",
   "execution_count": null,
   "metadata": {
    "hidden": true,
    "scrolled": false
   },
   "outputs": [],
   "source": [
    "cmap = plt.cm.viridis\n",
    "cmap.set_under(\"w\")\n",
    "hp.mollview(np.log(m), cmap=cmap, unit=\"lnPDF\")\n",
    "for th0 in th0s:\n",
    "    hp.projplot(np.repeat([th0], 100), np.linspace(0, 2 * np.pi, 100),\n",
    "                \"w--\", ms=1)\n",
    "hp.graticule(verbose=False, color=\"w\")\n",
    "hp.projplot(th0, phi0, \"k*\")\n",
    "plt.show()"
   ]
  },
  {
   "cell_type": "markdown",
   "metadata": {
    "hidden": true
   },
   "source": [
    "Linear test"
   ]
  },
  {
   "cell_type": "code",
   "execution_count": null,
   "metadata": {
    "hidden": true
   },
   "outputs": [],
   "source": [
    "m = np.arange(12 * 8**2)\n",
    "phis = np.linspace(0, 2. * np.pi, 1000)\n",
    "th0 = np.pi / 2.\n",
    "vals = hp.get_interp_val(m=m, phi=phis, theta=th0)\n",
    "\n",
    "plt.plot(phis, vals)\n",
    "plt.plot(phis, m[hp.ang2pix(nside=hp.get_nside(m), theta=th0, phi=phis)])\n",
    "plt.show()"
   ]
  },
  {
   "cell_type": "code",
   "execution_count": null,
   "metadata": {
    "hidden": true
   },
   "outputs": [],
   "source": [
    "ths = np.linspace(0, np.pi, 1000)\n",
    "phi0 = 1.7 * np.pi\n",
    "vals = hp.get_interp_val(m=m, phi=phi0, theta=ths)\n",
    "\n",
    "plt.plot(ths, vals)\n",
    "plt.plot(ths, m[hp.ang2pix(nside=hp.get_nside(m), theta=ths, phi=np.pi)])\n",
    "plt.show()"
   ]
  },
  {
   "cell_type": "markdown",
   "metadata": {},
   "source": [
    "# Ana"
   ]
  },
  {
   "cell_type": "markdown",
   "metadata": {
    "heading_collapsed": true
   },
   "source": [
    "## LLH"
   ]
  },
  {
   "cell_type": "code",
   "execution_count": null,
   "metadata": {
    "hidden": true
   },
   "outputs": [],
   "source": [
    "%%time\n",
    "# Just assume a source uncertainty here. Signal injection is not adapted yet\n",
    "NSIDE = 256\n",
    "ra0 = np.deg2rad([120, 150, 300])\n",
    "dec0 = np.deg2rad([-10, 20, 25])  # True src positions\n",
    "th0, phi0 = DecRaToThetaPhi(dec0, ra0)\n",
    "sigma0 = np.atleast_1d(np.deg2rad(2))\n",
    "if len(sigma0) != len(ra0) and len(sigma0) == 1:\n",
    "    sigma0 = np.repeat([sigma0], repeats=len(ra0))\n",
    "    \n",
    "ln_priors = []\n",
    "ln_priors_dphi = []\n",
    "ln_priors_dth = []\n",
    "for i, (th0i, phi0i, sigma0i) in enumerate(zip(th0, phi0, sigma0)):\n",
    "    print(u\"Making prior at: PHI={:.2f}, TH={:.2f}\".format(phi0i, th0i))\n",
    "    prior = gaussian_on_a_sphere(mean_th=th0i, mean_phi=phi0i, \n",
    "                                 clip=5., NSIDE=NSIDE, sigma=sigma0i)[0]\n",
    "    # Avoid taking the log of 0, use the smallest valid map number instead\n",
    "    prior[prior <= 0] = np.amin(prior[prior > 0])\n",
    "    ln_prior = np.log(prior)\n",
    "\n",
    "    # Make ra0, dec0 more realistic by setting it to the map maximum as in HESE\n",
    "    idx = np.argmax(ln_prior)\n",
    "    th0[i], phi0[i] = hp.pix2ang(NSIDE, idx)\n",
    "    dec0[i], ra0[i] = ThetaPhiToDecRa(th0[i], phi0[i])\n",
    "\n",
    "    # Get the log derivatives from the finite elements method\n",
    "    ln_prior_dphi, ln_prior_dth = map_der(ln_prior)\n",
    "    \n",
    "    ln_priors.append(ln_prior)\n",
    "    ln_priors_dphi.append(ln_prior_dphi)\n",
    "    ln_priors_dth.append(ln_prior_dth)"
   ]
  },
  {
   "cell_type": "code",
   "execution_count": null,
   "metadata": {
    "hidden": true
   },
   "outputs": [],
   "source": [
    "# Create a test sample\n",
    "rnd_gen = np.random.RandomState(137462)\n",
    "nbg = int(1e5)\n",
    "nsig = np.ones_like(ra0) * 10\n",
    "sig = {\"nsig\": nsig, \"ra\": ra0, \"dec\": dec0, \"sigma\": sigma0}\n",
    "\n",
    "ras, decs, sigmas, sig_idx = make_sample(nbg=nbg, sig=sig, rnd=rnd_gen)\n",
    "\n",
    "data = (ras, decs, sigmas)\n",
    "lnpriormap = (np.sum(ln_priors_dphi, axis=0), ln_priors_dth, ln_priors_dphi)"
   ]
  },
  {
   "cell_type": "markdown",
   "metadata": {
    "hidden": true
   },
   "source": [
    "First try to fit the source position with a prior map"
   ]
  },
  {
   "cell_type": "code",
   "execution_count": null,
   "metadata": {
    "code_folding": [],
    "hidden": true
   },
   "outputs": [],
   "source": [
    "res = fit_llh_ratio(x0=[10., np.deg2rad(302), np.deg2rad(-6)], fix_ra_dec=False,\n",
    "                    data=data, lnpriormap=lnpriormap)"
   ]
  },
  {
   "cell_type": "code",
   "execution_count": null,
   "metadata": {
    "hidden": true
   },
   "outputs": [],
   "source": [
    "res"
   ]
  },
  {
   "cell_type": "code",
   "execution_count": null,
   "metadata": {
    "hidden": true
   },
   "outputs": [],
   "source": [
    "ns = np.linspace(0, 5, 100)\n",
    "llh = np.zeros_like(ns)\n",
    "grad = np.zeros((len(ns), 3), dtype=float)\n",
    "for i in range(len(ns)):\n",
    "#     llh[i], grad[i] = llh_ratio((ns[i], np.deg2rad(302.5), np.deg2rad(-9)), data, lnpriormap)\n",
    "    llh[i], grad[i] = llh_ratio((ns[i], res.x[1], res.x[2]), data, lnpriormap)"
   ]
  },
  {
   "cell_type": "code",
   "execution_count": null,
   "metadata": {
    "hidden": true
   },
   "outputs": [],
   "source": [
    "plt.plot(ns, -llh)\n",
    "plt.plot(ns, -grad[:, 0])\n",
    "\n",
    "plt.axhline(0, c=\"C7\")\n",
    "plt.axvline(res.x[0], c=\"k\")\n",
    "plt.axvline(ns[np.argmax(llh)], ls=\"--\", c=\"C3\")\n",
    "plt.show()"
   ]
  },
  {
   "cell_type": "markdown",
   "metadata": {
    "hidden": true
   },
   "source": [
    "Scan to get an overview of the fit region"
   ]
  },
  {
   "cell_type": "code",
   "execution_count": null,
   "metadata": {
    "hidden": true,
    "scrolled": false
   },
   "outputs": [],
   "source": [
    "%%time\n",
    "# Scan the LLH in ras, decs for a given event combination\n",
    "src_idx = 2\n",
    "NSIDE = 64\n",
    "radius = 4. * sigma0[src_idx]\n",
    "\n",
    "# ns_fix = [res.x[0]]\n",
    "# ns_fix = np.linspace(0, 10, 11)\n",
    "# ns_fix = [False]\n",
    "ns_fix = [1]\n",
    "nss = []\n",
    "llhs = []\n",
    "grads = []\n",
    "for nsfi in tqdm(ns_fix):\n",
    "    nsi, llhi, gradi = sky_scan(NSIDE, data=data,\n",
    "                                lnpriormap=lnpriormap[src_idx],\n",
    "                                ra0=ra0[src_idx], dec0=dec0[src_idx],\n",
    "                                radius=radius, ns_fix=nsfi)\n",
    "    nss.append(nsi)\n",
    "    llhs.append(llhi)\n",
    "    grads.append(gradi)"
   ]
  },
  {
   "cell_type": "markdown",
   "metadata": {
    "heading_collapsed": true
   },
   "source": [
    "## Plots"
   ]
  },
  {
   "cell_type": "code",
   "execution_count": null,
   "metadata": {
    "hidden": true,
    "scrolled": false
   },
   "outputs": [],
   "source": [
    "for llh in llhs:\n",
    "    fig, ax, img = cartzoom_radius(llh, center=[ra0[src_idx], dec0[src_idx]],\n",
    "                                   r=radius, cmap=ps_cmap)\n",
    "    make_astro_xaxis(ax, time_xax=False)\n",
    "    ax.grid()\n",
    "    ax.plot(ra0[src_idx], dec0[src_idx], \"ko\", mfc=\"none\", ms=10)  # Injection\n",
    "    \n",
    "    # Scan best pix\n",
    "    max_idx = np.argmax(llh)\n",
    "    dec_max, ra_max = ThetaPhiToDecRa(*hp.pix2ang(NSIDE, max_idx))\n",
    "    ax.plot(ra_max, dec_max, \"k+\", mfc=\"none\", ms=9)  # Scan best fit\n",
    "    \n",
    "    # Fit best position\n",
    "#     ax.plot(res.x[1], res.x[2], \"k*\", ms=10)\n",
    "    \n",
    "    ax.set_title(u\"Radius {:.2f}°\".format(np.rad2deg(radius)))\n",
    "    # plt.savefig(\"single_src_w_injection.png\", dpi=150)\n",
    "    fig.colorbar(img, ax=ax)\n",
    "    plt.show()"
   ]
  },
  {
   "cell_type": "code",
   "execution_count": null,
   "metadata": {
    "hidden": true,
    "scrolled": false
   },
   "outputs": [],
   "source": [
    "for i, grad in enumerate(grads):\n",
    "    # Maps for TS, ns mutiplied with prior in normal space\n",
    "    fig, ax, img = cartzoom_radius(grad[:, 0],\n",
    "                                   center=[ra0[src_idx], dec0[src_idx]],\n",
    "                                   r=radius, cmap=\"seismic\")\n",
    "    make_astro_xaxis(ax, time_xax=False)\n",
    "    ax.grid()\n",
    "    ax.plot(ra0[src_idx], dec0[src_idx], \"ko\", mfc=\"none\", ms=10)  # Injection\n",
    "    \n",
    "    # Scan best pix\n",
    "    max_idx = np.argmax(llhs[i])\n",
    "    dec_max, ra_max = ThetaPhiToDecRa(*hp.pix2ang(NSIDE, max_idx))\n",
    "    ax.plot(ra_max, dec_max, \"k+\", mfc=\"none\", ms=9)  # Scan best fit\n",
    "    \n",
    "    # Fit best position\n",
    "#     ax.plot(res.x[1], res.x[2], \"k*\", ms=10)\n",
    "    \n",
    "    ax.set_title(u\"Radius {:.2f}°\".format(np.rad2deg(radius)))\n",
    "    # plt.savefig(\"single_src_w_injection.png\", dpi=150)\n",
    "    fig.colorbar(img, ax=ax)\n",
    "    plt.show()"
   ]
  },
  {
   "cell_type": "code",
   "execution_count": null,
   "metadata": {
    "hidden": true
   },
   "outputs": [],
   "source": []
  },
  {
   "cell_type": "code",
   "execution_count": null,
   "metadata": {
    "hidden": true
   },
   "outputs": [],
   "source": []
  },
  {
   "cell_type": "code",
   "execution_count": null,
   "metadata": {
    "hidden": true
   },
   "outputs": [],
   "source": [
    "# Maps for TS, ns mutiplied with prior in normal space\n",
    "fig, ax, img = cartzoom_radius(llh, center=[ra0, dec0], r=radius, cmap=ps_cmap)\n",
    "make_astro_xaxis(ax, time_xax=False)\n",
    "ax.grid()\n",
    "ax.plot(ra0, dec0, \"ko\", mfc=\"none\", ms=10)  # Injection\n",
    "ax.set_title(u\"Radius {:.2f}°\".format(np.rad2deg(radius)))\n",
    "# plt.savefig(\"single_src_w_injection.png\", dpi=150)\n",
    "fig.colorbar(img, ax=ax)\n",
    "plt.show()"
   ]
  },
  {
   "cell_type": "code",
   "execution_count": null,
   "metadata": {
    "hidden": true
   },
   "outputs": [],
   "source": [
    "# Maps for TS, ns mutiplied with prior in normal space\n",
    "fig, ax, img = cartzoom_radius(llh, center=[ra0, dec0], r=radius, cmap=ps_cmap)\n",
    "make_astro_xaxis(ax, time_xax=False)\n",
    "ax.grid()\n",
    "ax.plot(ra0, dec0, \"ko\", mfc=\"none\", ms=10)  # Injection\n",
    "ax.set_title(u\"Radius {:.2f}°\".format(np.rad2deg(radius)))\n",
    "# plt.savefig(\"single_src_w_injection.png\", dpi=150)\n",
    "fig.colorbar(img, ax=ax)\n",
    "plt.show()"
   ]
  },
  {
   "cell_type": "code",
   "execution_count": null,
   "metadata": {
    "hidden": true
   },
   "outputs": [],
   "source": []
  },
  {
   "cell_type": "code",
   "execution_count": null,
   "metadata": {
    "hidden": true
   },
   "outputs": [],
   "source": []
  },
  {
   "cell_type": "code",
   "execution_count": null,
   "metadata": {
    "hidden": true,
    "scrolled": false
   },
   "outputs": [],
   "source": [
    "# Maps for TS, ns mutiplied with prior in normal space\n",
    "fig, ax, img = cartzoom_radius(np.log(prior), center=[ra0, dec0], r=radius,\n",
    "                               cmap=plt.cm.Greens_r)\n",
    "make_astro_xaxis(ax, time_xax=False)\n",
    "plt.grid()\n",
    "plt.plot(ra0_, dec0_, \"ko\", mfc=\"none\")  # Injection\n",
    "plt.plot(res.x[1], res.x[2], \"k*\", mfc=\"none\", ms=10)  # Best fit\n",
    "plt.plot(ra_scan, dec_scan, \"kd\", mfc=\"none\", ms=10)  # Best fit from scan\n",
    "plt.title(u\"Radius {:.2f}°\".format(np.rad2deg(radius)))\n",
    "# plt.savefig(\"single_src_w_injection.png\", dpi=150)\n",
    "plt.colorbar(img, ax=ax)\n",
    "plt.show()"
   ]
  },
  {
   "cell_type": "code",
   "execution_count": null,
   "metadata": {
    "hidden": true
   },
   "outputs": [],
   "source": [
    "# Maps for TS, ns mutiplied with prior in normal space\n",
    "fig, ax, img = cartzoom_radius(llh, center=[ra0, dec0], r=radius,\n",
    "                               cmap=plt.cm.Greens_r)\n",
    "make_astro_xaxis(ax, time_xax=False)\n",
    "plt.grid()\n",
    "plt.plot(ra0_, dec0_, \"ko\", mfc=\"none\")  # Injection\n",
    "plt.plot(res.x[1], res.x[2], \"k*\", mfc=\"none\", ms=10)  # Best fit\n",
    "plt.plot(ra_scan, dec_scan, \"kd\", mfc=\"none\", ms=10)  # Best fit from scan\n",
    "plt.title(u\"Radius {:.2f}°\".format(np.rad2deg(radius)))\n",
    "# plt.savefig(\"single_src_w_injection.png\", dpi=150)\n",
    "plt.colorbar(img, ax=ax)\n",
    "plt.show()"
   ]
  },
  {
   "cell_type": "code",
   "execution_count": null,
   "metadata": {
    "hidden": true
   },
   "outputs": [],
   "source": [
    "# Maps for TS, ns mutiplied with prior in normal space\n",
    "llh_cut = np.zeros_like(llh)\n",
    "_conf = 2**2 / 2  # Wilk's confidence: r sigma = r^2/2 \n",
    "llh_cut[llh>np.amax(llh) - _conf] = llh[llh>np.amax(llh) - _conf]\n",
    "fig, ax, img = cartzoom_radius(llh_cut, center=[ra0, dec0], r=radius,\n",
    "                               cmap=plt.cm.Greens_r)\n",
    "make_astro_xaxis(ax, time_xax=False)\n",
    "plt.grid()\n",
    "plt.plot(ra0_, dec0_, \"ko\", mfc=\"none\")  # Injection\n",
    "plt.plot(res.x[1], res.x[2], \"k*\", mfc=\"none\", ms=10)  # Best fit\n",
    "plt.plot(ra_scan, dec_scan, \"kd\", mfc=\"none\", ms=10)  # Best fit from scan\n",
    "plt.title(u\"Radius {:.2f}°. $3\\sigma$ Wilk's contours\".format(\n",
    "    np.rad2deg(radius)))\n",
    "# plt.savefig(\"single_src_w_injection.png\", dpi=150)\n",
    "plt.colorbar(img, ax=ax)\n",
    "plt.show()"
   ]
  },
  {
   "cell_type": "code",
   "execution_count": null,
   "metadata": {
    "hidden": true
   },
   "outputs": [],
   "source": []
  },
  {
   "cell_type": "code",
   "execution_count": null,
   "metadata": {
    "hidden": true,
    "scrolled": false
   },
   "outputs": [],
   "source": [
    "# Plot event view\n",
    "th_bg, phi_bg = DecRaToThetaPhi(decs[~sig_idx], ras[~sig_idx])\n",
    "th_sig, phi_sig = DecRaToThetaPhi(decs[sig_idx], ras[sig_idx])\n",
    "\n",
    "hp.graticule(verbose=False)\n",
    "hp.projscatter(th_bg, phi_bg, s=sigmas[~sig_idx] * 100, c=\"C7\")\n",
    "hp.projscatter(th_sig, phi_sig, s=sigmas[sig_idx] * 100, c=\"C3\")\n",
    "hp.projscatter(th0, phi0, marker=\"o\", s=250, color=\"k\", facecolor=\"\", lw=1.5)\n",
    "plt.show()"
   ]
  },
  {
   "cell_type": "code",
   "execution_count": null,
   "metadata": {
    "hidden": true
   },
   "outputs": [],
   "source": [
    "# Maps for TS, ns mutiplied with prior in normal space\n",
    "hp.mollview(llh, cmap=ps_cmap, min=0, unit=\"TS\")\n",
    "hp.graticule(verbose=False)\n",
    "hp.projscatter(th0, phi0, marker=\"o\", s=200, color=\"k\", facecolor=\"\")\n",
    "plt.title(\"mollweide equatorial\")\n",
    "plt.show()\n",
    "\n",
    "hp.mollview(ns, cmap=ps_cmap, min=0, unit=\"ns\")\n",
    "hp.graticule(verbose=False)\n",
    "hp.projscatter(th0, phi0, marker=\"o\", s=200, color=\"k\", facecolor=\"\")\n",
    "plt.title(\"mollweide equatorial\")\n",
    "plt.show()"
   ]
  }
 ],
 "metadata": {
  "hide_input": false,
  "kernelspec": {
   "display_name": "Python 2 (OSX)",
   "language": "python",
   "name": "python2"
  },
  "language_info": {
   "codemirror_mode": {
    "name": "ipython",
    "version": 2
   },
   "file_extension": ".py",
   "mimetype": "text/x-python",
   "name": "python",
   "nbconvert_exporter": "python",
   "pygments_lexer": "ipython2",
   "version": "2.7.10"
  }
 },
 "nbformat": 4,
 "nbformat_minor": 2
}
